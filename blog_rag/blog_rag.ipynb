{
 "cells": [
  {
   "cell_type": "code",
   "execution_count": 1,
   "id": "1e83000a-967f-434d-8dbe-3ef63ba72c62",
   "metadata": {},
   "outputs": [
    {
     "name": "stdin",
     "output_type": "stream",
     "text": [
      " ········\n"
     ]
    }
   ],
   "source": [
    "from getpass import getpass\n",
    "GOOGLE_API_KEY = getpass()\n",
    "\n",
    "BASE_URL = 'https://www.noobscience.in/blog/'\n",
    "BLOGS = ['awesome-functions', 'letting-things-sit', 'stability', 'vim', 'consistency']"
   ]
  },
  {
   "cell_type": "code",
   "execution_count": 2,
   "id": "cf4812bd-d079-4738-b371-bb673426cbd1",
   "metadata": {
    "collapsed": true,
    "jupyter": {
     "outputs_hidden": true
    }
   },
   "outputs": [
    {
     "name": "stdout",
     "output_type": "stream",
     "text": [
      "Requirement already satisfied: langchain-community in /home/noobscience/Projects/rag_learn/venv/lib/python3.12/site-packages (0.3.18)\n",
      "Requirement already satisfied: tqdm in /home/noobscience/Projects/rag_learn/venv/lib/python3.12/site-packages (4.67.1)\n",
      "Requirement already satisfied: langchain-google-genai in /home/noobscience/Projects/rag_learn/venv/lib/python3.12/site-packages (2.0.10)\n",
      "Requirement already satisfied: ipywidgets in /home/noobscience/Projects/rag_learn/venv/lib/python3.12/site-packages (8.1.5)\n",
      "Requirement already satisfied: langchain-text-splitters in /home/noobscience/Projects/rag_learn/venv/lib/python3.12/site-packages (0.3.6)\n",
      "Requirement already satisfied: lxml in /home/noobscience/Projects/rag_learn/venv/lib/python3.12/site-packages (5.3.1)\n",
      "Requirement already satisfied: langchain-core<1.0.0,>=0.3.37 in /home/noobscience/Projects/rag_learn/venv/lib/python3.12/site-packages (from langchain-community) (0.3.37)\n",
      "Requirement already satisfied: langchain<1.0.0,>=0.3.19 in /home/noobscience/Projects/rag_learn/venv/lib/python3.12/site-packages (from langchain-community) (0.3.19)\n",
      "Requirement already satisfied: SQLAlchemy<3,>=1.4 in /home/noobscience/Projects/rag_learn/venv/lib/python3.12/site-packages (from langchain-community) (2.0.38)\n",
      "Requirement already satisfied: requests<3,>=2 in /home/noobscience/Projects/rag_learn/venv/lib/python3.12/site-packages (from langchain-community) (2.32.3)\n",
      "Requirement already satisfied: PyYAML>=5.3 in /home/noobscience/Projects/rag_learn/venv/lib/python3.12/site-packages (from langchain-community) (6.0.2)\n",
      "Requirement already satisfied: aiohttp<4.0.0,>=3.8.3 in /home/noobscience/Projects/rag_learn/venv/lib/python3.12/site-packages (from langchain-community) (3.11.12)\n",
      "Requirement already satisfied: tenacity!=8.4.0,<10,>=8.1.0 in /home/noobscience/Projects/rag_learn/venv/lib/python3.12/site-packages (from langchain-community) (9.0.0)\n",
      "Requirement already satisfied: dataclasses-json<0.7,>=0.5.7 in /home/noobscience/Projects/rag_learn/venv/lib/python3.12/site-packages (from langchain-community) (0.6.7)\n",
      "Requirement already satisfied: pydantic-settings<3.0.0,>=2.4.0 in /home/noobscience/Projects/rag_learn/venv/lib/python3.12/site-packages (from langchain-community) (2.8.0)\n",
      "Requirement already satisfied: langsmith<0.4,>=0.1.125 in /home/noobscience/Projects/rag_learn/venv/lib/python3.12/site-packages (from langchain-community) (0.3.10)\n",
      "Requirement already satisfied: httpx-sse<1.0.0,>=0.4.0 in /home/noobscience/Projects/rag_learn/venv/lib/python3.12/site-packages (from langchain-community) (0.4.0)\n",
      "Requirement already satisfied: numpy<3,>=1.26.2 in /home/noobscience/Projects/rag_learn/venv/lib/python3.12/site-packages (from langchain-community) (2.2.3)\n",
      "Requirement already satisfied: filetype<2.0.0,>=1.2.0 in /home/noobscience/Projects/rag_learn/venv/lib/python3.12/site-packages (from langchain-google-genai) (1.2.0)\n",
      "Requirement already satisfied: google-generativeai<0.9.0,>=0.8.0 in /home/noobscience/Projects/rag_learn/venv/lib/python3.12/site-packages (from langchain-google-genai) (0.8.4)\n",
      "Requirement already satisfied: pydantic<3,>=2 in /home/noobscience/Projects/rag_learn/venv/lib/python3.12/site-packages (from langchain-google-genai) (2.10.6)\n",
      "Requirement already satisfied: comm>=0.1.3 in /home/noobscience/Projects/rag_learn/venv/lib/python3.12/site-packages (from ipywidgets) (0.2.2)\n",
      "Requirement already satisfied: ipython>=6.1.0 in /home/noobscience/Projects/rag_learn/venv/lib/python3.12/site-packages (from ipywidgets) (8.32.0)\n",
      "Requirement already satisfied: traitlets>=4.3.1 in /home/noobscience/Projects/rag_learn/venv/lib/python3.12/site-packages (from ipywidgets) (5.14.3)\n",
      "Requirement already satisfied: widgetsnbextension~=4.0.12 in /home/noobscience/Projects/rag_learn/venv/lib/python3.12/site-packages (from ipywidgets) (4.0.13)\n",
      "Requirement already satisfied: jupyterlab-widgets~=3.0.12 in /home/noobscience/Projects/rag_learn/venv/lib/python3.12/site-packages (from ipywidgets) (3.0.13)\n",
      "Requirement already satisfied: aiohappyeyeballs>=2.3.0 in /home/noobscience/Projects/rag_learn/venv/lib/python3.12/site-packages (from aiohttp<4.0.0,>=3.8.3->langchain-community) (2.4.6)\n",
      "Requirement already satisfied: aiosignal>=1.1.2 in /home/noobscience/Projects/rag_learn/venv/lib/python3.12/site-packages (from aiohttp<4.0.0,>=3.8.3->langchain-community) (1.3.2)\n",
      "Requirement already satisfied: attrs>=17.3.0 in /home/noobscience/Projects/rag_learn/venv/lib/python3.12/site-packages (from aiohttp<4.0.0,>=3.8.3->langchain-community) (25.1.0)\n",
      "Requirement already satisfied: frozenlist>=1.1.1 in /home/noobscience/Projects/rag_learn/venv/lib/python3.12/site-packages (from aiohttp<4.0.0,>=3.8.3->langchain-community) (1.5.0)\n",
      "Requirement already satisfied: multidict<7.0,>=4.5 in /home/noobscience/Projects/rag_learn/venv/lib/python3.12/site-packages (from aiohttp<4.0.0,>=3.8.3->langchain-community) (6.1.0)\n",
      "Requirement already satisfied: propcache>=0.2.0 in /home/noobscience/Projects/rag_learn/venv/lib/python3.12/site-packages (from aiohttp<4.0.0,>=3.8.3->langchain-community) (0.3.0)\n",
      "Requirement already satisfied: yarl<2.0,>=1.17.0 in /home/noobscience/Projects/rag_learn/venv/lib/python3.12/site-packages (from aiohttp<4.0.0,>=3.8.3->langchain-community) (1.18.3)\n",
      "Requirement already satisfied: marshmallow<4.0.0,>=3.18.0 in /home/noobscience/Projects/rag_learn/venv/lib/python3.12/site-packages (from dataclasses-json<0.7,>=0.5.7->langchain-community) (3.26.1)\n",
      "Requirement already satisfied: typing-inspect<1,>=0.4.0 in /home/noobscience/Projects/rag_learn/venv/lib/python3.12/site-packages (from dataclasses-json<0.7,>=0.5.7->langchain-community) (0.9.0)\n",
      "Requirement already satisfied: google-ai-generativelanguage==0.6.15 in /home/noobscience/Projects/rag_learn/venv/lib/python3.12/site-packages (from google-generativeai<0.9.0,>=0.8.0->langchain-google-genai) (0.6.15)\n",
      "Requirement already satisfied: google-api-core in /home/noobscience/Projects/rag_learn/venv/lib/python3.12/site-packages (from google-generativeai<0.9.0,>=0.8.0->langchain-google-genai) (2.24.1)\n",
      "Requirement already satisfied: google-api-python-client in /home/noobscience/Projects/rag_learn/venv/lib/python3.12/site-packages (from google-generativeai<0.9.0,>=0.8.0->langchain-google-genai) (2.161.0)\n",
      "Requirement already satisfied: google-auth>=2.15.0 in /home/noobscience/Projects/rag_learn/venv/lib/python3.12/site-packages (from google-generativeai<0.9.0,>=0.8.0->langchain-google-genai) (2.38.0)\n",
      "Requirement already satisfied: protobuf in /home/noobscience/Projects/rag_learn/venv/lib/python3.12/site-packages (from google-generativeai<0.9.0,>=0.8.0->langchain-google-genai) (5.29.3)\n",
      "Requirement already satisfied: typing-extensions in /home/noobscience/Projects/rag_learn/venv/lib/python3.12/site-packages (from google-generativeai<0.9.0,>=0.8.0->langchain-google-genai) (4.12.2)\n",
      "Requirement already satisfied: proto-plus<2.0.0dev,>=1.22.3 in /home/noobscience/Projects/rag_learn/venv/lib/python3.12/site-packages (from google-ai-generativelanguage==0.6.15->google-generativeai<0.9.0,>=0.8.0->langchain-google-genai) (1.26.0)\n",
      "Requirement already satisfied: decorator in /home/noobscience/Projects/rag_learn/venv/lib/python3.12/site-packages (from ipython>=6.1.0->ipywidgets) (5.1.1)\n",
      "Requirement already satisfied: jedi>=0.16 in /home/noobscience/Projects/rag_learn/venv/lib/python3.12/site-packages (from ipython>=6.1.0->ipywidgets) (0.19.2)\n",
      "Requirement already satisfied: matplotlib-inline in /home/noobscience/Projects/rag_learn/venv/lib/python3.12/site-packages (from ipython>=6.1.0->ipywidgets) (0.1.7)\n",
      "Requirement already satisfied: pexpect>4.3 in /home/noobscience/Projects/rag_learn/venv/lib/python3.12/site-packages (from ipython>=6.1.0->ipywidgets) (4.9.0)\n",
      "Requirement already satisfied: prompt_toolkit<3.1.0,>=3.0.41 in /home/noobscience/Projects/rag_learn/venv/lib/python3.12/site-packages (from ipython>=6.1.0->ipywidgets) (3.0.50)\n",
      "Requirement already satisfied: pygments>=2.4.0 in /home/noobscience/Projects/rag_learn/venv/lib/python3.12/site-packages (from ipython>=6.1.0->ipywidgets) (2.19.1)\n",
      "Requirement already satisfied: stack_data in /home/noobscience/Projects/rag_learn/venv/lib/python3.12/site-packages (from ipython>=6.1.0->ipywidgets) (0.6.3)\n",
      "Requirement already satisfied: jsonpatch<2.0,>=1.33 in /home/noobscience/Projects/rag_learn/venv/lib/python3.12/site-packages (from langchain-core<1.0.0,>=0.3.37->langchain-community) (1.33)\n",
      "Requirement already satisfied: packaging<25,>=23.2 in /home/noobscience/Projects/rag_learn/venv/lib/python3.12/site-packages (from langchain-core<1.0.0,>=0.3.37->langchain-community) (24.2)\n",
      "Requirement already satisfied: httpx<1,>=0.23.0 in /home/noobscience/Projects/rag_learn/venv/lib/python3.12/site-packages (from langsmith<0.4,>=0.1.125->langchain-community) (0.28.1)\n",
      "Requirement already satisfied: orjson<4.0.0,>=3.9.14 in /home/noobscience/Projects/rag_learn/venv/lib/python3.12/site-packages (from langsmith<0.4,>=0.1.125->langchain-community) (3.10.15)\n",
      "Requirement already satisfied: requests-toolbelt<2.0.0,>=1.0.0 in /home/noobscience/Projects/rag_learn/venv/lib/python3.12/site-packages (from langsmith<0.4,>=0.1.125->langchain-community) (1.0.0)\n",
      "Requirement already satisfied: zstandard<0.24.0,>=0.23.0 in /home/noobscience/Projects/rag_learn/venv/lib/python3.12/site-packages (from langsmith<0.4,>=0.1.125->langchain-community) (0.23.0)\n",
      "Requirement already satisfied: annotated-types>=0.6.0 in /home/noobscience/Projects/rag_learn/venv/lib/python3.12/site-packages (from pydantic<3,>=2->langchain-google-genai) (0.7.0)\n",
      "Requirement already satisfied: pydantic-core==2.27.2 in /home/noobscience/Projects/rag_learn/venv/lib/python3.12/site-packages (from pydantic<3,>=2->langchain-google-genai) (2.27.2)\n",
      "Requirement already satisfied: python-dotenv>=0.21.0 in /home/noobscience/Projects/rag_learn/venv/lib/python3.12/site-packages (from pydantic-settings<3.0.0,>=2.4.0->langchain-community) (1.0.1)\n",
      "Requirement already satisfied: charset-normalizer<4,>=2 in /home/noobscience/Projects/rag_learn/venv/lib/python3.12/site-packages (from requests<3,>=2->langchain-community) (3.4.1)\n",
      "Requirement already satisfied: idna<4,>=2.5 in /home/noobscience/Projects/rag_learn/venv/lib/python3.12/site-packages (from requests<3,>=2->langchain-community) (3.10)\n",
      "Requirement already satisfied: urllib3<3,>=1.21.1 in /home/noobscience/Projects/rag_learn/venv/lib/python3.12/site-packages (from requests<3,>=2->langchain-community) (2.3.0)\n",
      "Requirement already satisfied: certifi>=2017.4.17 in /home/noobscience/Projects/rag_learn/venv/lib/python3.12/site-packages (from requests<3,>=2->langchain-community) (2025.1.31)\n",
      "Requirement already satisfied: greenlet!=0.4.17 in /home/noobscience/Projects/rag_learn/venv/lib/python3.12/site-packages (from SQLAlchemy<3,>=1.4->langchain-community) (3.1.1)\n",
      "Requirement already satisfied: googleapis-common-protos<2.0.dev0,>=1.56.2 in /home/noobscience/Projects/rag_learn/venv/lib/python3.12/site-packages (from google-api-core->google-generativeai<0.9.0,>=0.8.0->langchain-google-genai) (1.68.0)\n",
      "Requirement already satisfied: cachetools<6.0,>=2.0.0 in /home/noobscience/Projects/rag_learn/venv/lib/python3.12/site-packages (from google-auth>=2.15.0->google-generativeai<0.9.0,>=0.8.0->langchain-google-genai) (5.5.2)\n",
      "Requirement already satisfied: pyasn1-modules>=0.2.1 in /home/noobscience/Projects/rag_learn/venv/lib/python3.12/site-packages (from google-auth>=2.15.0->google-generativeai<0.9.0,>=0.8.0->langchain-google-genai) (0.4.1)\n",
      "Requirement already satisfied: rsa<5,>=3.1.4 in /home/noobscience/Projects/rag_learn/venv/lib/python3.12/site-packages (from google-auth>=2.15.0->google-generativeai<0.9.0,>=0.8.0->langchain-google-genai) (4.9)\n",
      "Requirement already satisfied: anyio in /home/noobscience/Projects/rag_learn/venv/lib/python3.12/site-packages (from httpx<1,>=0.23.0->langsmith<0.4,>=0.1.125->langchain-community) (4.8.0)\n",
      "Requirement already satisfied: httpcore==1.* in /home/noobscience/Projects/rag_learn/venv/lib/python3.12/site-packages (from httpx<1,>=0.23.0->langsmith<0.4,>=0.1.125->langchain-community) (1.0.7)\n",
      "Requirement already satisfied: h11<0.15,>=0.13 in /home/noobscience/Projects/rag_learn/venv/lib/python3.12/site-packages (from httpcore==1.*->httpx<1,>=0.23.0->langsmith<0.4,>=0.1.125->langchain-community) (0.14.0)\n",
      "Requirement already satisfied: parso<0.9.0,>=0.8.4 in /home/noobscience/Projects/rag_learn/venv/lib/python3.12/site-packages (from jedi>=0.16->ipython>=6.1.0->ipywidgets) (0.8.4)\n",
      "Requirement already satisfied: jsonpointer>=1.9 in /home/noobscience/Projects/rag_learn/venv/lib/python3.12/site-packages (from jsonpatch<2.0,>=1.33->langchain-core<1.0.0,>=0.3.37->langchain-community) (3.0.0)\n",
      "Requirement already satisfied: ptyprocess>=0.5 in /home/noobscience/Projects/rag_learn/venv/lib/python3.12/site-packages (from pexpect>4.3->ipython>=6.1.0->ipywidgets) (0.7.0)\n",
      "Requirement already satisfied: wcwidth in /home/noobscience/Projects/rag_learn/venv/lib/python3.12/site-packages (from prompt_toolkit<3.1.0,>=3.0.41->ipython>=6.1.0->ipywidgets) (0.2.13)\n",
      "Requirement already satisfied: mypy-extensions>=0.3.0 in /home/noobscience/Projects/rag_learn/venv/lib/python3.12/site-packages (from typing-inspect<1,>=0.4.0->dataclasses-json<0.7,>=0.5.7->langchain-community) (1.0.0)\n",
      "Requirement already satisfied: httplib2<1.dev0,>=0.19.0 in /home/noobscience/Projects/rag_learn/venv/lib/python3.12/site-packages (from google-api-python-client->google-generativeai<0.9.0,>=0.8.0->langchain-google-genai) (0.22.0)\n",
      "Requirement already satisfied: google-auth-httplib2<1.0.0,>=0.2.0 in /home/noobscience/Projects/rag_learn/venv/lib/python3.12/site-packages (from google-api-python-client->google-generativeai<0.9.0,>=0.8.0->langchain-google-genai) (0.2.0)\n",
      "Requirement already satisfied: uritemplate<5,>=3.0.1 in /home/noobscience/Projects/rag_learn/venv/lib/python3.12/site-packages (from google-api-python-client->google-generativeai<0.9.0,>=0.8.0->langchain-google-genai) (4.1.1)\n",
      "Requirement already satisfied: executing>=1.2.0 in /home/noobscience/Projects/rag_learn/venv/lib/python3.12/site-packages (from stack_data->ipython>=6.1.0->ipywidgets) (2.2.0)\n",
      "Requirement already satisfied: asttokens>=2.1.0 in /home/noobscience/Projects/rag_learn/venv/lib/python3.12/site-packages (from stack_data->ipython>=6.1.0->ipywidgets) (3.0.0)\n",
      "Requirement already satisfied: pure-eval in /home/noobscience/Projects/rag_learn/venv/lib/python3.12/site-packages (from stack_data->ipython>=6.1.0->ipywidgets) (0.2.3)\n",
      "Requirement already satisfied: grpcio<2.0dev,>=1.33.2 in /home/noobscience/Projects/rag_learn/venv/lib/python3.12/site-packages (from google-api-core[grpc]!=2.0.*,!=2.1.*,!=2.10.*,!=2.2.*,!=2.3.*,!=2.4.*,!=2.5.*,!=2.6.*,!=2.7.*,!=2.8.*,!=2.9.*,<3.0.0dev,>=1.34.1->google-ai-generativelanguage==0.6.15->google-generativeai<0.9.0,>=0.8.0->langchain-google-genai) (1.70.0)\n",
      "Requirement already satisfied: grpcio-status<2.0.dev0,>=1.33.2 in /home/noobscience/Projects/rag_learn/venv/lib/python3.12/site-packages (from google-api-core[grpc]!=2.0.*,!=2.1.*,!=2.10.*,!=2.2.*,!=2.3.*,!=2.4.*,!=2.5.*,!=2.6.*,!=2.7.*,!=2.8.*,!=2.9.*,<3.0.0dev,>=1.34.1->google-ai-generativelanguage==0.6.15->google-generativeai<0.9.0,>=0.8.0->langchain-google-genai) (1.70.0)\n",
      "Requirement already satisfied: pyparsing!=3.0.0,!=3.0.1,!=3.0.2,!=3.0.3,<4,>=2.4.2 in /home/noobscience/Projects/rag_learn/venv/lib/python3.12/site-packages (from httplib2<1.dev0,>=0.19.0->google-api-python-client->google-generativeai<0.9.0,>=0.8.0->langchain-google-genai) (3.2.1)\n",
      "Requirement already satisfied: pyasn1<0.7.0,>=0.4.6 in /home/noobscience/Projects/rag_learn/venv/lib/python3.12/site-packages (from pyasn1-modules>=0.2.1->google-auth>=2.15.0->google-generativeai<0.9.0,>=0.8.0->langchain-google-genai) (0.6.1)\n",
      "Requirement already satisfied: sniffio>=1.1 in /home/noobscience/Projects/rag_learn/venv/lib/python3.12/site-packages (from anyio->httpx<1,>=0.23.0->langsmith<0.4,>=0.1.125->langchain-community) (1.3.1)\n"
     ]
    }
   ],
   "source": [
    "!pip install langchain-community tqdm langchain-google-genai ipywidgets langchain-text-splitters lxml"
   ]
  },
  {
   "cell_type": "code",
   "execution_count": 3,
   "id": "a5e0aad2-612d-499d-b3f8-959f8f5a6ee9",
   "metadata": {},
   "outputs": [
    {
     "name": "stderr",
     "output_type": "stream",
     "text": [
      "USER_AGENT environment variable not set, consider setting it to identify your requests.\n"
     ]
    }
   ],
   "source": [
    "from langchain_community.document_loaders import WebBaseLoader\n",
    "\n",
    "blog_urls = [(BASE_URL + blog) for blog in BLOGS]\n",
    "\n",
    "loader = WebBaseLoader(web_paths=blog_urls)"
   ]
  },
  {
   "cell_type": "code",
   "execution_count": 4,
   "id": "297499b5-c077-4d6b-b387-8d0da14feed4",
   "metadata": {},
   "outputs": [
    {
     "name": "stderr",
     "output_type": "stream",
     "text": [
      "Fetching pages: 100%|#####################################################################################| 5/5 [00:02<00:00,  2.20it/s]\n"
     ]
    }
   ],
   "source": [
    "docs = []\n",
    "async for doc in loader.alazy_load():\n",
    "    docs.append(doc)\n",
    "\n",
    "assert len(docs) == len(blog_urls)"
   ]
  },
  {
   "cell_type": "code",
   "execution_count": 5,
   "id": "58837ba6-ee1f-41bd-8444-cad30e6e3e79",
   "metadata": {},
   "outputs": [],
   "source": [
    "from langchain_google_genai import GoogleGenerativeAIEmbeddings\n",
    "\n",
    "embeddings = GoogleGenerativeAIEmbeddings(model=\"models/text-embedding-004\", google_api_key=GOOGLE_API_KEY)"
   ]
  },
  {
   "cell_type": "code",
   "execution_count": 6,
   "id": "935e7be3-fc90-43a1-808a-7fca38d4dc35",
   "metadata": {},
   "outputs": [
    {
     "data": {
      "text/plain": [
       "768"
      ]
     },
     "execution_count": 6,
     "metadata": {},
     "output_type": "execute_result"
    }
   ],
   "source": [
    "len(embeddings.embed_query(\"What are some awesome fish shell functions?\"))"
   ]
  },
  {
   "cell_type": "code",
   "execution_count": 7,
   "id": "cc775364-c4ba-46b1-b199-d76cb18e0782",
   "metadata": {},
   "outputs": [],
   "source": [
    "from langchain_text_splitters import RecursiveCharacterTextSplitter\n",
    "\n",
    "text_splitter = RecursiveCharacterTextSplitter(chunk_size=1000, chunk_overlap=200)\n",
    "all_splits = text_splitter.split_documents(docs)"
   ]
  },
  {
   "cell_type": "code",
   "execution_count": 8,
   "id": "202d9143-aee9-44ad-af7f-414be4cadb08",
   "metadata": {},
   "outputs": [
    {
     "data": {
      "text/plain": [
       "Document(metadata={'source': 'https://www.noobscience.in/blog/awesome-functions', 'title': '\\n            Awesome Fish functions\\n        ', 'description': 'Hi! I am Ishan. I am a Student and Open Source Enthusiast. This is my personal portfolio website. I Like to Code Stuff. Check out my work!', 'language': 'en'}, page_content='Awesome Fish functions\\n        \\n\\n\\n    <><NoobScience%projects?blog!now+stuff@contact    Awesome Fish functions   Some awesome fish functions that I have accumalated over the years.  \\nPosted on Fri Jan 03 2025       I use fish shell as my default shell and I have recently started writing and accumulating some fish shell functions that you might like\\nfor your own config.\\nSo here are some of them:\\nAutomagical Tmux Session\\nfunction tm\\n    set session_name (basename (pwd))\\n\\n    if tmux has-session -t $session_name\\n        echo \"Tmux session \\'$session_name\\' already exists.\"\\n        tmux attach-session -t $session_name\\n    else\\n        tmux new-session -s $session_name\\n    end\\nend')"
      ]
     },
     "execution_count": 8,
     "metadata": {},
     "output_type": "execute_result"
    }
   ],
   "source": [
    "all_splits[0]"
   ]
  },
  {
   "cell_type": "code",
   "execution_count": 9,
   "id": "0e0e88d9-bfbd-482f-9fe9-3cefec73e4f1",
   "metadata": {},
   "outputs": [],
   "source": [
    "from langchain_core.vectorstores import InMemoryVectorStore\n",
    "\n",
    "vector_store = InMemoryVectorStore(embeddings)"
   ]
  },
  {
   "cell_type": "code",
   "execution_count": 10,
   "id": "b2e4b938-9cac-468c-9227-b3ac37201a8b",
   "metadata": {},
   "outputs": [
    {
     "data": {
      "text/plain": [
       "['d760bbc4-953f-4555-94a6-d77ad8a2e604',\n",
       " '22cddee7-c56a-4fc8-bd2f-35669c780366',\n",
       " '9ee4f638-2396-4b56-9e1e-fae426704853',\n",
       " '4d6d5c0d-d318-4b75-aa80-7ec55126689d',\n",
       " '53691820-1e46-4905-ba8e-7ca287b029e5',\n",
       " '11b0321e-317a-432a-b2e3-e31388ba506f',\n",
       " '1b700b45-6e55-4e15-9490-30cb857c9958',\n",
       " '2f5971b2-4a53-4d11-97fc-1c49f316b266',\n",
       " 'e36c8db9-2040-4ee6-9278-74d491822180',\n",
       " '29c3d90a-bd7f-4def-b0a9-d5cc46975811',\n",
       " 'bf0a0f46-5a06-408c-ae3a-76833bb460b9',\n",
       " 'c51b3962-6cb1-44d8-8c03-c856c98ede96',\n",
       " '39ec22db-cb43-4d94-ade0-92a9e50b92a1',\n",
       " 'ff49f70a-7284-4000-b007-82a10a88129f',\n",
       " '06cc379b-7da5-4afd-9c8e-647a529c1665',\n",
       " 'f52869ce-bf86-4af4-9f66-0216b76f826d',\n",
       " '53eafe68-6085-4dc3-afaa-7a911113f264',\n",
       " '2578f49c-fef9-42d6-bcc8-a6a3a00d48bf',\n",
       " 'ca342159-89b9-4f09-9c1e-4e5bfb67b7a5',\n",
       " '4b2ab3ff-9a10-4fc2-acc2-ebe6ef6d459f',\n",
       " '0abcf6f4-67fd-4d3c-aa7f-1da3b9a4787d']"
      ]
     },
     "execution_count": 10,
     "metadata": {},
     "output_type": "execute_result"
    }
   ],
   "source": [
    "vector_store.add_documents(documents=all_splits)"
   ]
  },
  {
   "cell_type": "code",
   "execution_count": 21,
   "id": "9a765e6b-7163-41fb-a45a-008b3fd178ef",
   "metadata": {},
   "outputs": [
    {
     "name": "stdout",
     "output_type": "stream",
     "text": [
      "* [SIM=0.656170] 🪑NoobScience%projects?blog!now+stuff@contact    Letting Things Sit   My resolution for 2025  \n",
      "Posted on Thu Jan 02 2025       I have a very bad habit of not letting things sitting that I want to try getting rid of in 2025.\n",
      "By letting things sit I mean consistently sticking to the things that I decide to do and not change it.\n",
      "It means actually having patience and giving it time.\n",
      "The most annoying example I can think of that comes under this category is my habit of changing my neovim config way too often.\n",
      "So often that I feel that the very purpose of customizing my neovim config is lost.\n",
      "Something feels like ours only when you give it time.\n",
      "This applies not only to my editor example, but also to relationships, electronics and most importantly routines.\n",
      "The art of maintaining a routine has been ever elusive to me and I believe that I finally know why: Consistency and Predictability.\n",
      "I think I am finally at a stage where I can stop experimenting and stick to something. [{'source': 'https://www.noobscience.in/blog/letting-things-sit', 'title': '\\n            Letting Things Sit\\n        ', 'description': 'Hi! I am Ishan. I am a Student and Open Source Enthusiast. This is my personal portfolio website. I Like to Code Stuff. Check out my work!', 'language': 'en'}]\n"
     ]
    }
   ],
   "source": [
    "results = vector_store.similarity_search_with_score(query=\"My 2025 resolutions\",k=1)\n",
    "for doc, score in results:\n",
    "    print(f\"* [SIM={score:3f}] {doc.page_content} [{doc.metadata}]\")"
   ]
  },
  {
   "cell_type": "code",
   "execution_count": 12,
   "id": "7ed06dca-6a03-40b0-9c6f-5f3ae06028be",
   "metadata": {},
   "outputs": [
    {
     "data": {
      "text/plain": [
       "[Document(id='11b0321e-317a-432a-b2e3-e31388ba506f', metadata={'source': 'https://www.noobscience.in/blog/letting-things-sit', 'title': '\\n            Letting Things Sit\\n        ', 'description': 'Hi! I am Ishan. I am a Student and Open Source Enthusiast. This is my personal portfolio website. I Like to Code Stuff. Check out my work!', 'language': 'en'}, page_content='🪑NoobScience%projects?blog!now+stuff@contact    Letting Things Sit   My resolution for 2025  \\nPosted on Thu Jan 02 2025       I have a very bad habit of not letting things sitting that I want to try getting rid of in 2025.\\nBy letting things sit I mean consistently sticking to the things that I decide to do and not change it.\\nIt means actually having patience and giving it time.\\nThe most annoying example I can think of that comes under this category is my habit of changing my neovim config way too often.\\nSo often that I feel that the very purpose of customizing my neovim config is lost.\\nSomething feels like ours only when you give it time.\\nThis applies not only to my editor example, but also to relationships, electronics and most importantly routines.\\nThe art of maintaining a routine has been ever elusive to me and I believe that I finally know why: Consistency and Predictability.\\nI think I am finally at a stage where I can stop experimenting and stick to something.')]"
      ]
     },
     "execution_count": 12,
     "metadata": {},
     "output_type": "execute_result"
    }
   ],
   "source": [
    "retriever = vector_store.as_retriever(\n",
    "    search_type=\"mmr\",\n",
    "    search_kwargs={\"k\": 1, \"fetch_k\": 2, \"lambda_mult\": 0.5},\n",
    ")\n",
    "retriever.invoke(\"My 2025 resolution\")"
   ]
  },
  {
   "cell_type": "code",
   "execution_count": 13,
   "id": "3a8daaad-4d07-4009-bf3c-1de03f6d0c9f",
   "metadata": {},
   "outputs": [],
   "source": [
    "from langchain_core.globals import set_llm_cache\n",
    "from langchain_google_genai import GoogleGenerativeAI\n",
    "from langchain_core.caches import InMemoryCache\n",
    "\n",
    "llm = GoogleGenerativeAI(model=\"gemini-2.0-flash\", google_api_key=GOOGLE_API_KEY)\n",
    "\n",
    "set_llm_cache(InMemoryCache())"
   ]
  },
  {
   "cell_type": "code",
   "execution_count": 14,
   "id": "bfc00dc6-6cd8-483d-8b70-b0122f18dd5e",
   "metadata": {},
   "outputs": [
    {
     "data": {
      "text/plain": [
       "'I am a large language model, trained by Google.\\n'"
      ]
     },
     "execution_count": 14,
     "metadata": {},
     "output_type": "execute_result"
    }
   ],
   "source": [
    "llm.invoke(\"Hello! Who are you?\")"
   ]
  },
  {
   "cell_type": "code",
   "execution_count": 15,
   "id": "ee1f8695-0857-4daa-b901-d67c835340dd",
   "metadata": {},
   "outputs": [],
   "source": [
    "from langchain_core.prompts import PromptTemplate\n",
    "template = \"\"\"Answer the following question to a user {question} \n",
    "with the following context {context}\"\"\"\n",
    "\n",
    "prompt = PromptTemplate.from_template(template)"
   ]
  },
  {
   "cell_type": "code",
   "execution_count": 16,
   "id": "323929f2-0ddb-4dd5-862a-3478f67cf400",
   "metadata": {},
   "outputs": [],
   "source": [
    "from typing import List, Any\n",
    "\n",
    "class CustomBlogRAG:\n",
    "    \"\"\"\n",
    "    CustomBlogRAG makes the whole lang chain come together\n",
    "    \"\"\"\n",
    "    def __init__(self, embeddings, vector_store, llm, prompt):\n",
    "        self.embeddings = embeddings\n",
    "        self.vector_store = vector_store\n",
    "        self.llm = llm\n",
    "        self.prompt = prompt\n",
    "\n",
    "    def search(self, query: str) -> List[Any]:\n",
    "        ret = self.vector_store.similarity_search_with_score(query=query,k=1)\n",
    "        return [a[0] for a in ret if a[1] > 0.5] \n",
    "    \n",
    "    def ask(self, question: str)->str:\n",
    "        rel_docs = self.search(question)\n",
    "        context = \"\\n\\n\".join(doc.page_content for doc in rel_docs)\n",
    "        print(f'Using content of {\",\".join([doc.metadata['source'] for doc in rel_docs])} ')\n",
    "        final_prompt = self.prompt.invoke({\"question\": question, \"context\": context})\n",
    "        response = self.llm.invoke(final_prompt)\n",
    "        \n",
    "        return response"
   ]
  },
  {
   "cell_type": "code",
   "execution_count": 17,
   "id": "9511ea16-57f6-422f-b131-bc7d908c527a",
   "metadata": {},
   "outputs": [],
   "source": [
    "rag = CustomBlogRAG(embeddings, vector_store, llm, prompt)"
   ]
  },
  {
   "cell_type": "code",
   "execution_count": 19,
   "id": "50d1f373-9be8-43e6-9cc8-f8a0d555a693",
   "metadata": {},
   "outputs": [
    {
     "name": "stdout",
     "output_type": "stream",
     "text": [
      "Using content of https://www.noobscience.in/blog/letting-things-sit \n",
      "Your 2025 resolution is to **stop changing things so often and to be more consistent, especially with routines, relationships, electronics, and your neovim configuration.** You want to develop patience and \"let things sit.\"\n",
      "\n"
     ]
    }
   ],
   "source": [
    "print(rag.ask(\"What is my 2025 resolution\"))"
   ]
  },
  {
   "cell_type": "code",
   "execution_count": null,
   "id": "f4d05a50-3dd1-40c8-ba05-e0efae8222fd",
   "metadata": {},
   "outputs": [],
   "source": []
  }
 ],
 "metadata": {
  "kernelspec": {
   "display_name": "Python 3 (ipykernel)",
   "language": "python",
   "name": "python3"
  },
  "language_info": {
   "codemirror_mode": {
    "name": "ipython",
    "version": 3
   },
   "file_extension": ".py",
   "mimetype": "text/x-python",
   "name": "python",
   "nbconvert_exporter": "python",
   "pygments_lexer": "ipython3",
   "version": "3.12.7"
  }
 },
 "nbformat": 4,
 "nbformat_minor": 5
}
