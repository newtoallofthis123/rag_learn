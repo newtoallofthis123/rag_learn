{
 "cells": [
  {
   "cell_type": "code",
   "execution_count": 1,
   "id": "cc4db092-4818-4b00-b1f4-499a47bfd60b",
   "metadata": {},
   "outputs": [
    {
     "name": "stdin",
     "output_type": "stream",
     "text": [
      " ········\n"
     ]
    }
   ],
   "source": [
    "from getpass import getpass\n",
    "GOOGLE_API_KEY=getpass()"
   ]
  },
  {
   "cell_type": "code",
   "execution_count": 2,
   "id": "d47109ac-5a2d-4ea2-b507-ce794d169269",
   "metadata": {},
   "outputs": [
    {
     "name": "stdin",
     "output_type": "stream",
     "text": [
      " ········\n"
     ]
    }
   ],
   "source": [
    "import os\n",
    "if not os.environ.get(\"LANGSMITH_API_KEY\"):\n",
    "    os.environ[\"LANGSMITH_API_KEY\"] = getpass()\n",
    "    os.environ[\"LANGSMITH_TRACING\"] = \"true\""
   ]
  },
  {
   "cell_type": "code",
   "execution_count": 6,
   "id": "4f0bc250-09b5-478f-8678-1e6dc25b3b42",
   "metadata": {
    "collapsed": true,
    "jupyter": {
     "outputs_hidden": true
    }
   },
   "outputs": [
    {
     "name": "stdout",
     "output_type": "stream",
     "text": [
      "Requirement already satisfied: langchain-community in /home/noobscience/Projects/rag_learn/venv/lib/python3.12/site-packages (0.3.18)\n",
      "Requirement already satisfied: tqdm in /home/noobscience/Projects/rag_learn/venv/lib/python3.12/site-packages (4.67.1)\n",
      "Requirement already satisfied: langchain-google-genai in /home/noobscience/Projects/rag_learn/venv/lib/python3.12/site-packages (2.0.10)\n",
      "Requirement already satisfied: ipywidgets in /home/noobscience/Projects/rag_learn/venv/lib/python3.12/site-packages (8.1.5)\n",
      "Requirement already satisfied: jq in /home/noobscience/Projects/rag_learn/venv/lib/python3.12/site-packages (1.8.0)\n",
      "Requirement already satisfied: langchain-text-splitters in /home/noobscience/Projects/rag_learn/venv/lib/python3.12/site-packages (0.3.6)\n",
      "Requirement already satisfied: lxml in /home/noobscience/Projects/rag_learn/venv/lib/python3.12/site-packages (5.3.1)\n",
      "Requirement already satisfied: langchain-core<1.0.0,>=0.3.37 in /home/noobscience/Projects/rag_learn/venv/lib/python3.12/site-packages (from langchain-community) (0.3.37)\n",
      "Requirement already satisfied: langchain<1.0.0,>=0.3.19 in /home/noobscience/Projects/rag_learn/venv/lib/python3.12/site-packages (from langchain-community) (0.3.19)\n",
      "Requirement already satisfied: SQLAlchemy<3,>=1.4 in /home/noobscience/Projects/rag_learn/venv/lib/python3.12/site-packages (from langchain-community) (2.0.38)\n",
      "Requirement already satisfied: requests<3,>=2 in /home/noobscience/Projects/rag_learn/venv/lib/python3.12/site-packages (from langchain-community) (2.32.3)\n",
      "Requirement already satisfied: PyYAML>=5.3 in /home/noobscience/Projects/rag_learn/venv/lib/python3.12/site-packages (from langchain-community) (6.0.2)\n",
      "Requirement already satisfied: aiohttp<4.0.0,>=3.8.3 in /home/noobscience/Projects/rag_learn/venv/lib/python3.12/site-packages (from langchain-community) (3.11.12)\n",
      "Requirement already satisfied: tenacity!=8.4.0,<10,>=8.1.0 in /home/noobscience/Projects/rag_learn/venv/lib/python3.12/site-packages (from langchain-community) (9.0.0)\n",
      "Requirement already satisfied: dataclasses-json<0.7,>=0.5.7 in /home/noobscience/Projects/rag_learn/venv/lib/python3.12/site-packages (from langchain-community) (0.6.7)\n",
      "Requirement already satisfied: pydantic-settings<3.0.0,>=2.4.0 in /home/noobscience/Projects/rag_learn/venv/lib/python3.12/site-packages (from langchain-community) (2.8.0)\n",
      "Requirement already satisfied: langsmith<0.4,>=0.1.125 in /home/noobscience/Projects/rag_learn/venv/lib/python3.12/site-packages (from langchain-community) (0.3.10)\n",
      "Requirement already satisfied: httpx-sse<1.0.0,>=0.4.0 in /home/noobscience/Projects/rag_learn/venv/lib/python3.12/site-packages (from langchain-community) (0.4.0)\n",
      "Requirement already satisfied: numpy<3,>=1.26.2 in /home/noobscience/Projects/rag_learn/venv/lib/python3.12/site-packages (from langchain-community) (2.2.3)\n",
      "Requirement already satisfied: filetype<2.0.0,>=1.2.0 in /home/noobscience/Projects/rag_learn/venv/lib/python3.12/site-packages (from langchain-google-genai) (1.2.0)\n",
      "Requirement already satisfied: google-generativeai<0.9.0,>=0.8.0 in /home/noobscience/Projects/rag_learn/venv/lib/python3.12/site-packages (from langchain-google-genai) (0.8.4)\n",
      "Requirement already satisfied: pydantic<3,>=2 in /home/noobscience/Projects/rag_learn/venv/lib/python3.12/site-packages (from langchain-google-genai) (2.10.6)\n",
      "Requirement already satisfied: comm>=0.1.3 in /home/noobscience/Projects/rag_learn/venv/lib/python3.12/site-packages (from ipywidgets) (0.2.2)\n",
      "Requirement already satisfied: ipython>=6.1.0 in /home/noobscience/Projects/rag_learn/venv/lib/python3.12/site-packages (from ipywidgets) (8.32.0)\n",
      "Requirement already satisfied: traitlets>=4.3.1 in /home/noobscience/Projects/rag_learn/venv/lib/python3.12/site-packages (from ipywidgets) (5.14.3)\n",
      "Requirement already satisfied: widgetsnbextension~=4.0.12 in /home/noobscience/Projects/rag_learn/venv/lib/python3.12/site-packages (from ipywidgets) (4.0.13)\n",
      "Requirement already satisfied: jupyterlab-widgets~=3.0.12 in /home/noobscience/Projects/rag_learn/venv/lib/python3.12/site-packages (from ipywidgets) (3.0.13)\n",
      "Requirement already satisfied: aiohappyeyeballs>=2.3.0 in /home/noobscience/Projects/rag_learn/venv/lib/python3.12/site-packages (from aiohttp<4.0.0,>=3.8.3->langchain-community) (2.4.6)\n",
      "Requirement already satisfied: aiosignal>=1.1.2 in /home/noobscience/Projects/rag_learn/venv/lib/python3.12/site-packages (from aiohttp<4.0.0,>=3.8.3->langchain-community) (1.3.2)\n",
      "Requirement already satisfied: attrs>=17.3.0 in /home/noobscience/Projects/rag_learn/venv/lib/python3.12/site-packages (from aiohttp<4.0.0,>=3.8.3->langchain-community) (25.1.0)\n",
      "Requirement already satisfied: frozenlist>=1.1.1 in /home/noobscience/Projects/rag_learn/venv/lib/python3.12/site-packages (from aiohttp<4.0.0,>=3.8.3->langchain-community) (1.5.0)\n",
      "Requirement already satisfied: multidict<7.0,>=4.5 in /home/noobscience/Projects/rag_learn/venv/lib/python3.12/site-packages (from aiohttp<4.0.0,>=3.8.3->langchain-community) (6.1.0)\n",
      "Requirement already satisfied: propcache>=0.2.0 in /home/noobscience/Projects/rag_learn/venv/lib/python3.12/site-packages (from aiohttp<4.0.0,>=3.8.3->langchain-community) (0.3.0)\n",
      "Requirement already satisfied: yarl<2.0,>=1.17.0 in /home/noobscience/Projects/rag_learn/venv/lib/python3.12/site-packages (from aiohttp<4.0.0,>=3.8.3->langchain-community) (1.18.3)\n",
      "Requirement already satisfied: marshmallow<4.0.0,>=3.18.0 in /home/noobscience/Projects/rag_learn/venv/lib/python3.12/site-packages (from dataclasses-json<0.7,>=0.5.7->langchain-community) (3.26.1)\n",
      "Requirement already satisfied: typing-inspect<1,>=0.4.0 in /home/noobscience/Projects/rag_learn/venv/lib/python3.12/site-packages (from dataclasses-json<0.7,>=0.5.7->langchain-community) (0.9.0)\n",
      "Requirement already satisfied: google-ai-generativelanguage==0.6.15 in /home/noobscience/Projects/rag_learn/venv/lib/python3.12/site-packages (from google-generativeai<0.9.0,>=0.8.0->langchain-google-genai) (0.6.15)\n",
      "Requirement already satisfied: google-api-core in /home/noobscience/Projects/rag_learn/venv/lib/python3.12/site-packages (from google-generativeai<0.9.0,>=0.8.0->langchain-google-genai) (2.24.1)\n",
      "Requirement already satisfied: google-api-python-client in /home/noobscience/Projects/rag_learn/venv/lib/python3.12/site-packages (from google-generativeai<0.9.0,>=0.8.0->langchain-google-genai) (2.161.0)\n",
      "Requirement already satisfied: google-auth>=2.15.0 in /home/noobscience/Projects/rag_learn/venv/lib/python3.12/site-packages (from google-generativeai<0.9.0,>=0.8.0->langchain-google-genai) (2.38.0)\n",
      "Requirement already satisfied: protobuf in /home/noobscience/Projects/rag_learn/venv/lib/python3.12/site-packages (from google-generativeai<0.9.0,>=0.8.0->langchain-google-genai) (5.29.3)\n",
      "Requirement already satisfied: typing-extensions in /home/noobscience/Projects/rag_learn/venv/lib/python3.12/site-packages (from google-generativeai<0.9.0,>=0.8.0->langchain-google-genai) (4.12.2)\n",
      "Requirement already satisfied: proto-plus<2.0.0dev,>=1.22.3 in /home/noobscience/Projects/rag_learn/venv/lib/python3.12/site-packages (from google-ai-generativelanguage==0.6.15->google-generativeai<0.9.0,>=0.8.0->langchain-google-genai) (1.26.0)\n",
      "Requirement already satisfied: decorator in /home/noobscience/Projects/rag_learn/venv/lib/python3.12/site-packages (from ipython>=6.1.0->ipywidgets) (5.1.1)\n",
      "Requirement already satisfied: jedi>=0.16 in /home/noobscience/Projects/rag_learn/venv/lib/python3.12/site-packages (from ipython>=6.1.0->ipywidgets) (0.19.2)\n",
      "Requirement already satisfied: matplotlib-inline in /home/noobscience/Projects/rag_learn/venv/lib/python3.12/site-packages (from ipython>=6.1.0->ipywidgets) (0.1.7)\n",
      "Requirement already satisfied: pexpect>4.3 in /home/noobscience/Projects/rag_learn/venv/lib/python3.12/site-packages (from ipython>=6.1.0->ipywidgets) (4.9.0)\n",
      "Requirement already satisfied: prompt_toolkit<3.1.0,>=3.0.41 in /home/noobscience/Projects/rag_learn/venv/lib/python3.12/site-packages (from ipython>=6.1.0->ipywidgets) (3.0.50)\n",
      "Requirement already satisfied: pygments>=2.4.0 in /home/noobscience/Projects/rag_learn/venv/lib/python3.12/site-packages (from ipython>=6.1.0->ipywidgets) (2.19.1)\n",
      "Requirement already satisfied: stack_data in /home/noobscience/Projects/rag_learn/venv/lib/python3.12/site-packages (from ipython>=6.1.0->ipywidgets) (0.6.3)\n",
      "Requirement already satisfied: jsonpatch<2.0,>=1.33 in /home/noobscience/Projects/rag_learn/venv/lib/python3.12/site-packages (from langchain-core<1.0.0,>=0.3.37->langchain-community) (1.33)\n",
      "Requirement already satisfied: packaging<25,>=23.2 in /home/noobscience/Projects/rag_learn/venv/lib/python3.12/site-packages (from langchain-core<1.0.0,>=0.3.37->langchain-community) (24.2)\n",
      "Requirement already satisfied: httpx<1,>=0.23.0 in /home/noobscience/Projects/rag_learn/venv/lib/python3.12/site-packages (from langsmith<0.4,>=0.1.125->langchain-community) (0.28.1)\n",
      "Requirement already satisfied: orjson<4.0.0,>=3.9.14 in /home/noobscience/Projects/rag_learn/venv/lib/python3.12/site-packages (from langsmith<0.4,>=0.1.125->langchain-community) (3.10.15)\n",
      "Requirement already satisfied: requests-toolbelt<2.0.0,>=1.0.0 in /home/noobscience/Projects/rag_learn/venv/lib/python3.12/site-packages (from langsmith<0.4,>=0.1.125->langchain-community) (1.0.0)\n",
      "Requirement already satisfied: zstandard<0.24.0,>=0.23.0 in /home/noobscience/Projects/rag_learn/venv/lib/python3.12/site-packages (from langsmith<0.4,>=0.1.125->langchain-community) (0.23.0)\n",
      "Requirement already satisfied: annotated-types>=0.6.0 in /home/noobscience/Projects/rag_learn/venv/lib/python3.12/site-packages (from pydantic<3,>=2->langchain-google-genai) (0.7.0)\n",
      "Requirement already satisfied: pydantic-core==2.27.2 in /home/noobscience/Projects/rag_learn/venv/lib/python3.12/site-packages (from pydantic<3,>=2->langchain-google-genai) (2.27.2)\n",
      "Requirement already satisfied: python-dotenv>=0.21.0 in /home/noobscience/Projects/rag_learn/venv/lib/python3.12/site-packages (from pydantic-settings<3.0.0,>=2.4.0->langchain-community) (1.0.1)\n",
      "Requirement already satisfied: charset-normalizer<4,>=2 in /home/noobscience/Projects/rag_learn/venv/lib/python3.12/site-packages (from requests<3,>=2->langchain-community) (3.4.1)\n",
      "Requirement already satisfied: idna<4,>=2.5 in /home/noobscience/Projects/rag_learn/venv/lib/python3.12/site-packages (from requests<3,>=2->langchain-community) (3.10)\n",
      "Requirement already satisfied: urllib3<3,>=1.21.1 in /home/noobscience/Projects/rag_learn/venv/lib/python3.12/site-packages (from requests<3,>=2->langchain-community) (2.3.0)\n",
      "Requirement already satisfied: certifi>=2017.4.17 in /home/noobscience/Projects/rag_learn/venv/lib/python3.12/site-packages (from requests<3,>=2->langchain-community) (2025.1.31)\n",
      "Requirement already satisfied: greenlet!=0.4.17 in /home/noobscience/Projects/rag_learn/venv/lib/python3.12/site-packages (from SQLAlchemy<3,>=1.4->langchain-community) (3.1.1)\n",
      "Requirement already satisfied: googleapis-common-protos<2.0.dev0,>=1.56.2 in /home/noobscience/Projects/rag_learn/venv/lib/python3.12/site-packages (from google-api-core->google-generativeai<0.9.0,>=0.8.0->langchain-google-genai) (1.68.0)\n",
      "Requirement already satisfied: cachetools<6.0,>=2.0.0 in /home/noobscience/Projects/rag_learn/venv/lib/python3.12/site-packages (from google-auth>=2.15.0->google-generativeai<0.9.0,>=0.8.0->langchain-google-genai) (5.5.2)\n",
      "Requirement already satisfied: pyasn1-modules>=0.2.1 in /home/noobscience/Projects/rag_learn/venv/lib/python3.12/site-packages (from google-auth>=2.15.0->google-generativeai<0.9.0,>=0.8.0->langchain-google-genai) (0.4.1)\n",
      "Requirement already satisfied: rsa<5,>=3.1.4 in /home/noobscience/Projects/rag_learn/venv/lib/python3.12/site-packages (from google-auth>=2.15.0->google-generativeai<0.9.0,>=0.8.0->langchain-google-genai) (4.9)\n",
      "Requirement already satisfied: anyio in /home/noobscience/Projects/rag_learn/venv/lib/python3.12/site-packages (from httpx<1,>=0.23.0->langsmith<0.4,>=0.1.125->langchain-community) (4.8.0)\n",
      "Requirement already satisfied: httpcore==1.* in /home/noobscience/Projects/rag_learn/venv/lib/python3.12/site-packages (from httpx<1,>=0.23.0->langsmith<0.4,>=0.1.125->langchain-community) (1.0.7)\n",
      "Requirement already satisfied: h11<0.15,>=0.13 in /home/noobscience/Projects/rag_learn/venv/lib/python3.12/site-packages (from httpcore==1.*->httpx<1,>=0.23.0->langsmith<0.4,>=0.1.125->langchain-community) (0.14.0)\n",
      "Requirement already satisfied: parso<0.9.0,>=0.8.4 in /home/noobscience/Projects/rag_learn/venv/lib/python3.12/site-packages (from jedi>=0.16->ipython>=6.1.0->ipywidgets) (0.8.4)\n",
      "Requirement already satisfied: jsonpointer>=1.9 in /home/noobscience/Projects/rag_learn/venv/lib/python3.12/site-packages (from jsonpatch<2.0,>=1.33->langchain-core<1.0.0,>=0.3.37->langchain-community) (3.0.0)\n",
      "Requirement already satisfied: ptyprocess>=0.5 in /home/noobscience/Projects/rag_learn/venv/lib/python3.12/site-packages (from pexpect>4.3->ipython>=6.1.0->ipywidgets) (0.7.0)\n",
      "Requirement already satisfied: wcwidth in /home/noobscience/Projects/rag_learn/venv/lib/python3.12/site-packages (from prompt_toolkit<3.1.0,>=3.0.41->ipython>=6.1.0->ipywidgets) (0.2.13)\n",
      "Requirement already satisfied: mypy-extensions>=0.3.0 in /home/noobscience/Projects/rag_learn/venv/lib/python3.12/site-packages (from typing-inspect<1,>=0.4.0->dataclasses-json<0.7,>=0.5.7->langchain-community) (1.0.0)\n",
      "Requirement already satisfied: httplib2<1.dev0,>=0.19.0 in /home/noobscience/Projects/rag_learn/venv/lib/python3.12/site-packages (from google-api-python-client->google-generativeai<0.9.0,>=0.8.0->langchain-google-genai) (0.22.0)\n",
      "Requirement already satisfied: google-auth-httplib2<1.0.0,>=0.2.0 in /home/noobscience/Projects/rag_learn/venv/lib/python3.12/site-packages (from google-api-python-client->google-generativeai<0.9.0,>=0.8.0->langchain-google-genai) (0.2.0)\n",
      "Requirement already satisfied: uritemplate<5,>=3.0.1 in /home/noobscience/Projects/rag_learn/venv/lib/python3.12/site-packages (from google-api-python-client->google-generativeai<0.9.0,>=0.8.0->langchain-google-genai) (4.1.1)\n",
      "Requirement already satisfied: executing>=1.2.0 in /home/noobscience/Projects/rag_learn/venv/lib/python3.12/site-packages (from stack_data->ipython>=6.1.0->ipywidgets) (2.2.0)\n",
      "Requirement already satisfied: asttokens>=2.1.0 in /home/noobscience/Projects/rag_learn/venv/lib/python3.12/site-packages (from stack_data->ipython>=6.1.0->ipywidgets) (3.0.0)\n",
      "Requirement already satisfied: pure-eval in /home/noobscience/Projects/rag_learn/venv/lib/python3.12/site-packages (from stack_data->ipython>=6.1.0->ipywidgets) (0.2.3)\n",
      "Requirement already satisfied: grpcio<2.0dev,>=1.33.2 in /home/noobscience/Projects/rag_learn/venv/lib/python3.12/site-packages (from google-api-core[grpc]!=2.0.*,!=2.1.*,!=2.10.*,!=2.2.*,!=2.3.*,!=2.4.*,!=2.5.*,!=2.6.*,!=2.7.*,!=2.8.*,!=2.9.*,<3.0.0dev,>=1.34.1->google-ai-generativelanguage==0.6.15->google-generativeai<0.9.0,>=0.8.0->langchain-google-genai) (1.70.0)\n",
      "Requirement already satisfied: grpcio-status<2.0.dev0,>=1.33.2 in /home/noobscience/Projects/rag_learn/venv/lib/python3.12/site-packages (from google-api-core[grpc]!=2.0.*,!=2.1.*,!=2.10.*,!=2.2.*,!=2.3.*,!=2.4.*,!=2.5.*,!=2.6.*,!=2.7.*,!=2.8.*,!=2.9.*,<3.0.0dev,>=1.34.1->google-ai-generativelanguage==0.6.15->google-generativeai<0.9.0,>=0.8.0->langchain-google-genai) (1.70.0)\n",
      "Requirement already satisfied: pyparsing!=3.0.0,!=3.0.1,!=3.0.2,!=3.0.3,<4,>=2.4.2 in /home/noobscience/Projects/rag_learn/venv/lib/python3.12/site-packages (from httplib2<1.dev0,>=0.19.0->google-api-python-client->google-generativeai<0.9.0,>=0.8.0->langchain-google-genai) (3.2.1)\n",
      "Requirement already satisfied: pyasn1<0.7.0,>=0.4.6 in /home/noobscience/Projects/rag_learn/venv/lib/python3.12/site-packages (from pyasn1-modules>=0.2.1->google-auth>=2.15.0->google-generativeai<0.9.0,>=0.8.0->langchain-google-genai) (0.6.1)\n",
      "Requirement already satisfied: sniffio>=1.1 in /home/noobscience/Projects/rag_learn/venv/lib/python3.12/site-packages (from anyio->httpx<1,>=0.23.0->langsmith<0.4,>=0.1.125->langchain-community) (1.3.1)\n"
     ]
    }
   ],
   "source": [
    "!pip install langchain-community tqdm langchain-google-genai ipywidgets jq langchain-text-splitters lxml langgraph"
   ]
  },
  {
   "cell_type": "markdown",
   "id": "2bc4dfdc-8334-4d4c-9b32-0e5286614e4d",
   "metadata": {},
   "source": [
    "## Preprocessing\n",
    "\n",
    "We first checkout the patient.json file and augment it with a natural language description since that has been shown to have better results\n",
    "The augmented file is rewritten to comply with the file_path requirement of the JSONLoader"
   ]
  },
  {
   "cell_type": "code",
   "execution_count": 3,
   "id": "b00ecd9a-420b-4bc1-a74d-991b731b595f",
   "metadata": {},
   "outputs": [],
   "source": [
    "import json\n",
    "\n",
    "with open(\"patients.json\", \"r\") as file:\n",
    "    content = file.read()\n",
    "\n",
    "obj = json.loads(content)\n",
    "assert len(obj[\"patients\"]) == 37"
   ]
  },
  {
   "cell_type": "code",
   "execution_count": 4,
   "id": "1aadd2b2-d867-467b-914d-2f4e99001fa0",
   "metadata": {},
   "outputs": [],
   "source": [
    "def generate_description(patient):\n",
    "    first_pronoun = 'He' if patient['gender'] == 'Male' else 'She'\n",
    "    second_pronoun = 'his' if patient['gender'] == 'Male' else 'her'\n",
    "    return f\"\"\"{patient['description'].replace('[AI GENERATED] ', '')}\n",
    "The name of the patient is {patient['name']}. {first_pronoun} lives at\n",
    "{patient['address']} and {second_pronoun} phone number is {patient['phone']} and identity is {patient['identity']}.\n",
    "{first_pronoun} is recommended a {patient['recommended_doctor'].replace('[AI GENERATED] ', '')}.\n",
    "    \"\"\""
   ]
  },
  {
   "cell_type": "code",
   "execution_count": 16,
   "id": "8e8ec3ce-6b35-4b38-ac68-ae363ea6840e",
   "metadata": {},
   "outputs": [
    {
     "name": "stdout",
     "output_type": "stream",
     "text": [
      "{'name': 'Aisha Khan', 'age': '62', 'gender': 'Female', 'address': 'Mumbai', 'identity': 'Passport: P2947H8', 'phone': '9876543210', 'problems': [{'name': 'Fatigue', 'duration': '2 weeks', 'description': 'Persistent fatigue and weakness.'}, {'name': 'Joint pain', 'duration': '1 month', 'description': 'Pain in knees and elbows.'}, {'name': 'Shortness of breath', 'duration': '1 week', 'description': 'Difficulty breathing after mild exertion.'}], 'conditions': ['Hypertension', 'Osteoarthritis'], 'description': '[AI GENERATED] A 62-year-old female experiencing fatigue, joint pain, and shortness of breath, with a medical history of hypertension and osteoarthritis.', 'recommended_doctor': '[AI GENERATED] Rheumatologist or General Practitioner', 'full_desc': 'A 62-year-old female experiencing fatigue, joint pain, and shortness of breath, with a medical history of hypertension and osteoarthritis.\\nThe name of the patient is Aisha Khan. She lives at\\nMumbai and her phone number is 9876543210 and identity is Passport: P2947H8.\\nShe is recommended a Rheumatologist or General Practitioner.\\n    '}\n"
     ]
    }
   ],
   "source": [
    "for i,a in enumerate(obj['patients']):\n",
    "    obj['patients'][i]['full_desc'] = generate_description(a) \n",
    "print(obj['patients'][0])\n",
    "\n",
    "with open(\"patients_full.json\", \"w\") as file:\n",
    "    file.write(json.dumps(obj))"
   ]
  },
  {
   "cell_type": "markdown",
   "id": "1cb5bd6f-b4f9-43dd-ad88-6ef8fe05ec73",
   "metadata": {},
   "source": [
    "## Load in the documents\n",
    "\n",
    "The JSON Documents are loaded in using the JSONLoader and the full_desc is the `page_content`.\n",
    "We also include the entire patient information into document for ease of use. \n",
    "This would not be needed if we instead use patient_id"
   ]
  },
  {
   "cell_type": "code",
   "execution_count": 5,
   "id": "7b89d8e3-8c8b-4fb7-9957-b1750f493f59",
   "metadata": {},
   "outputs": [
    {
     "name": "stdout",
     "output_type": "stream",
     "text": [
      "page_content='A 62-year-old female experiencing fatigue, joint pain, and shortness of breath, with a medical history of hypertension and osteoarthritis.\n",
      "The name of the patient is Aisha Khan. She lives at\n",
      "Mumbai and her phone number is 9876543210 and identity is Passport: P2947H8.\n",
      "She is recommended a Rheumatologist or General Practitioner.\n",
      "    ' metadata={'source': '/home/noobscience/Projects/rag_learn/patient_system/patients_full.json', 'seq_num': 1, 'patient': {'name': 'Aisha Khan', 'age': '62', 'gender': 'Female', 'address': 'Mumbai', 'identity': 'Passport: P2947H8', 'phone': '9876543210', 'problems': [{'name': 'Fatigue', 'duration': '2 weeks', 'description': 'Persistent fatigue and weakness.'}, {'name': 'Joint pain', 'duration': '1 month', 'description': 'Pain in knees and elbows.'}, {'name': 'Shortness of breath', 'duration': '1 week', 'description': 'Difficulty breathing after mild exertion.'}], 'conditions': ['Hypertension', 'Osteoarthritis'], 'description': '[AI GENERATED] A 62-year-old female experiencing fatigue, joint pain, and shortness of breath, with a medical history of hypertension and osteoarthritis.', 'recommended_doctor': '[AI GENERATED] Rheumatologist or General Practitioner'}}\n"
     ]
    }
   ],
   "source": [
    "from langchain_community.document_loaders import JSONLoader\n",
    "\n",
    "def metadata_func(record: dict, metadata: dict):\n",
    "    del record['full_desc']\n",
    "    metadata['patient'] = record\n",
    "\n",
    "    return metadata\n",
    "\n",
    "loader = JSONLoader(file_path=\"patients_full.json\", \n",
    "                    jq_schema=\".patients[]\", \n",
    "                    content_key=\".full_desc\", \n",
    "                    text_content=True, \n",
    "                    is_content_key_jq_parsable=True,\n",
    "                    metadata_func=metadata_func\n",
    "                   )\n",
    "\n",
    "docs = loader.load()\n",
    "print(docs[0])"
   ]
  },
  {
   "cell_type": "markdown",
   "id": "cd879294-efd7-4ae7-be38-9c70a144bddd",
   "metadata": {},
   "source": [
    "## Text Splitting\n",
    "\n",
    "We next split the augmented text document into smaller chunks. This however is kinda unneccessary and is only done for the semantics of the representation"
   ]
  },
  {
   "cell_type": "code",
   "execution_count": 6,
   "id": "b1807286-8293-4bb1-8f02-f3312cc2c059",
   "metadata": {},
   "outputs": [],
   "source": [
    "from langchain.text_splitter import RecursiveCharacterTextSplitter\n",
    "\n",
    "text_splitter = RecursiveCharacterTextSplitter(chunk_size=1000, chunk_overlap=200)\n",
    "all_splits = text_splitter.split_documents(docs)\n",
    "\n",
    "assert len(all_splits) == len(docs)"
   ]
  },
  {
   "cell_type": "code",
   "execution_count": 7,
   "id": "3e4f2136-0e2e-47eb-998c-2348b5295649",
   "metadata": {},
   "outputs": [],
   "source": [
    "from langchain_google_genai import GoogleGenerativeAIEmbeddings\n",
    "\n",
    "embeddings = GoogleGenerativeAIEmbeddings(model=\"models/text-embedding-004\", google_api_key=GOOGLE_API_KEY)"
   ]
  },
  {
   "cell_type": "code",
   "execution_count": 8,
   "id": "7996ba4d-b21a-447c-8197-c4ddb2801bf7",
   "metadata": {},
   "outputs": [
    {
     "data": {
      "text/plain": [
       "['771a0a1b-f1e5-4a68-a548-faad2a5a8650',\n",
       " '53b81e25-f6e4-48c2-9b14-5147ee9c253a',\n",
       " 'f123ad15-8139-425b-a491-853f2b05834e',\n",
       " '17c93f7f-f681-415c-9a52-13272800087b',\n",
       " '6ce12e06-cf3a-41a0-8783-db86dc41cdf6',\n",
       " '5428ba91-df55-498d-85ba-6e9973b8753a',\n",
       " '550d12bb-de4b-4594-a5a7-371b089cc538',\n",
       " '78e7569c-871a-4cfa-a6a2-5ca82aecfc86',\n",
       " '2768b1be-5021-4637-b5e9-86e0acdda5d3',\n",
       " '5b945382-3e38-4de9-8252-7b88b4b9352c',\n",
       " 'c9486eed-88bc-497e-a364-eab0a086e6ee',\n",
       " '499a10da-fc26-4cee-8817-31c0e3c6cceb',\n",
       " 'f3b31c84-4a21-4198-9a6d-ba017d992b17',\n",
       " '8656ba2c-ccdd-4aa9-a11d-f291ecfd6358',\n",
       " '3f3b9575-8020-47fa-acb0-b8f886d40f98',\n",
       " '3368e06e-6c5a-4184-9b2b-6b21a02727e1',\n",
       " '7d25f3ca-a697-473b-aa24-97373afd0d3a',\n",
       " '4ccb2521-b003-4815-9722-79cfd4fe238a',\n",
       " '9b7f76b5-5869-4017-be02-5a3d8754c148',\n",
       " 'db184357-a1e0-4445-af9b-13e1befabfc4',\n",
       " 'ee58c742-582d-47f8-9299-74d9e68f5f04',\n",
       " '402b61c2-f8d7-4486-9d63-6b8ca61aefbe',\n",
       " 'e0c58fb0-ca15-4d16-a87c-a60896d85cd1',\n",
       " 'c627f00d-2861-4d78-8df1-5bd786d779ec',\n",
       " 'd45a68a3-c12d-42ea-bf37-d26d095499ee',\n",
       " '21682bab-2913-4055-b447-1b29a62ec28f',\n",
       " '223fdf68-460a-44c1-8d18-a5c87c2f4d5d',\n",
       " 'eb0a985a-8781-456b-a635-363c5ae2493a',\n",
       " 'b4a8a6b1-7bef-4e84-975b-1708d4613ae3',\n",
       " '6a15b8c2-478f-4101-9388-07e9a0c0c3d6',\n",
       " 'fdd9c316-63c2-48d8-8803-616c4988fd18',\n",
       " '820f2062-3f01-43a0-a578-bfc759baa4e8',\n",
       " 'ccb025b8-3841-41cd-ba2e-37ffb3ff06fb',\n",
       " '64782f03-6219-4d7e-b439-1755afc2abd9',\n",
       " '858d5ae2-2636-4442-8129-df10cde45a60',\n",
       " '40e87b45-98f6-47c9-ba7c-c7a1030925d6',\n",
       " '4b334ce3-bd44-4fe6-9c84-da2d60fb254c']"
      ]
     },
     "execution_count": 8,
     "metadata": {},
     "output_type": "execute_result"
    }
   ],
   "source": [
    "from langchain_core.vectorstores import InMemoryVectorStore\n",
    "\n",
    "vector_store = InMemoryVectorStore(embeddings)\n",
    "vector_store.add_documents(documents=all_splits)"
   ]
  },
  {
   "cell_type": "code",
   "execution_count": 9,
   "id": "e472d48b-d1fd-4c99-8503-b7a9dd506ff1",
   "metadata": {},
   "outputs": [
    {
     "name": "stdout",
     "output_type": "stream",
     "text": [
      "* [SIM=0.618512] A 34-year-old female experiencing abdominal pain and fever.\n",
      "The name of the patient is Rani Sharma. She lives at\n",
      "Udaipur and her phone number is 4545454545 and identity is Driving License: DL1234567890.\n",
      "She is recommended a General Practitioner. [{'source': '/home/noobscience/Projects/rag_learn/patient_system/patients_full.json', 'seq_num': 25, 'patient': {'name': 'Rani Sharma', 'age': '34', 'gender': 'Female', 'address': 'Udaipur', 'identity': 'Driving License: DL1234567890', 'phone': '4545454545', 'problems': [{'name': 'Abdominal pain', 'duration': '2 days', 'description': 'Lower abdominal pain.'}, {'name': 'Fever', 'duration': '1 day', 'description': 'High fever.'}], 'conditions': [], 'description': '[AI GENERATED] A 34-year-old female experiencing abdominal pain and fever.', 'recommended_doctor': '[AI GENERATED] General Practitioner'}}]\n",
      "* [SIM=0.555963] A 25-year-old female experiencing sore throat and cough.\n",
      "The name of the patient is Nisha Verma. She lives at\n",
      "Shimla and her phone number is 2323232323 and identity is Student ID: STD00123.\n",
      "She is recommended a General Practitioner. [{'source': '/home/noobscience/Projects/rag_learn/patient_system/patients_full.json', 'seq_num': 27, 'patient': {'name': 'Nisha Verma', 'age': '25', 'gender': 'Female', 'address': 'Shimla', 'identity': 'Student ID: STD00123', 'phone': '2323232323', 'problems': [{'name': 'Sore throat', 'duration': '3 days', 'description': 'Painful sore throat.'}, {'name': 'Cough', 'duration': '3 days', 'description': 'Dry cough.'}], 'conditions': [], 'description': '[AI GENERATED] A 25-year-old female experiencing sore throat and cough.', 'recommended_doctor': '[AI GENERATED] General Practitioner'}}]\n",
      "* [SIM=0.526777] A 26-year-old female experiencing headaches and nausea.\n",
      "The name of the patient is Pooja Reddy. She lives at\n",
      "Visakhapatnam and her phone number is 6767676767 and identity is Employee ID: ABC00123.\n",
      "She is recommended a Neurologist. [{'source': '/home/noobscience/Projects/rag_learn/patient_system/patients_full.json', 'seq_num': 23, 'patient': {'name': 'Pooja Reddy', 'age': '26', 'gender': 'Female', 'address': 'Visakhapatnam', 'identity': 'Employee ID: ABC00123', 'phone': '6767676767', 'problems': [{'name': 'Headaches', 'duration': '1 week', 'description': 'Frequent headaches.'}, {'name': 'Nausea', 'duration': '1 week', 'description': 'Feeling nauseous with the headaches.'}], 'conditions': [], 'description': '[AI GENERATED] A 26-year-old female experiencing headaches and nausea.', 'recommended_doctor': '[AI GENERATED] Neurologist'}}]\n",
      "* [SIM=0.517581] A 30-year-old female experiencing weight loss and fatigue.\n",
      "The name of the patient is Sunita Sharma. She lives at\n",
      "Patna and her phone number is 8989898989 and identity is Student ID: STU12345.\n",
      "She is recommended a General Practitioner or Oncologist. [{'source': '/home/noobscience/Projects/rag_learn/patient_system/patients_full.json', 'seq_num': 21, 'patient': {'name': 'Sunita Sharma', 'age': '30', 'gender': 'Female', 'address': 'Patna', 'identity': 'Student ID: STU12345', 'phone': '8989898989', 'problems': [{'name': 'Weight loss', 'duration': '3 months', 'description': 'Unintentional weight loss.'}, {'name': 'Fatigue', 'duration': '3 months', 'description': 'Feeling tired all the time.'}], 'conditions': [], 'description': '[AI GENERATED] A 30-year-old female experiencing weight loss and fatigue.', 'recommended_doctor': '[AI GENERATED] General Practitioner or Oncologist'}}]\n"
     ]
    }
   ],
   "source": [
    "em = embeddings.embed_query(\"Female with fever\")\n",
    "results = vector_store.similarity_search_with_score_by_vector(embedding=em)\n",
    "for doc, score in results:\n",
    "    if score < 0.5: continue\n",
    "    print(f\"* [SIM={score:3f}] {doc.page_content} [{doc.metadata}]\")"
   ]
  },
  {
   "cell_type": "markdown",
   "id": "fa9f527e-e830-4801-a044-6f017e491219",
   "metadata": {},
   "source": [
    "Okay well this was the "
   ]
  },
  {
   "cell_type": "code",
   "execution_count": 10,
   "id": "d4a68128-8ad8-4036-8f54-19a1a71bd7c2",
   "metadata": {},
   "outputs": [],
   "source": [
    "from langchain_core.globals import set_llm_cache\n",
    "from langchain_google_genai import GoogleGenerativeAI\n",
    "from langchain_core.caches import InMemoryCache\n",
    "\n",
    "llm = GoogleGenerativeAI(model=\"gemini-2.0-flash\", google_api_key=GOOGLE_API_KEY)\n",
    "\n",
    "set_llm_cache(InMemoryCache())"
   ]
  },
  {
   "cell_type": "code",
   "execution_count": 11,
   "id": "26800844-049e-4d56-b094-4c1e148ea63a",
   "metadata": {},
   "outputs": [],
   "source": [
    "from langchain.prompts import PromptTemplate\n",
    "\n",
    "prompt = PromptTemplate.from_template(\"\"\"You are a doctor's assistant who is tasked with answering the questions of a doctor based on the following patient's data: \n",
    "{context}. Answer in a professional tones and remember to only answer from the data available to you. If you do not have the\n",
    "data or the answer for something, please respond with I do not know. Now answer this question: {question}\n",
    "\"\"\")"
   ]
  },
  {
   "cell_type": "code",
   "execution_count": 12,
   "id": "8d8384a5-1093-4703-bc32-9fbd8a0462dd",
   "metadata": {},
   "outputs": [],
   "source": [
    "from typing import TypedDict, List\n",
    "from langchain_core.documents import Document\n",
    "class State(TypedDict):\n",
    "    question: str\n",
    "    context: List[Document]\n",
    "    answer: str"
   ]
  },
  {
   "cell_type": "code",
   "execution_count": 13,
   "id": "6c1389cb-f8ea-4a85-be0b-8bad7277084e",
   "metadata": {},
   "outputs": [],
   "source": [
    "from langgraph.graph import START, StateGraph\n",
    "from langgraph.checkpoint.memory import MemorySaver\n",
    "\n",
    "memory = MemorySaver()\n",
    "\n",
    "def retrieve(state: State):\n",
    "    retrieved_docs = vector_store.similarity_search_with_score(state[\"question\"])\n",
    "    docs = [a[0] for a in retrieved_docs if a[1] > 0.5]\n",
    "    return {\"context\": docs}\n",
    "\n",
    "\n",
    "def generate(state: State):\n",
    "    docs_content = \"\\n\\n\".join(doc.page_content for doc in state[\"context\"])\n",
    "    messages = prompt.invoke({\"question\": state[\"question\"], \"context\": docs_content})\n",
    "    response = llm.invoke(messages)\n",
    "    return {\"answer\": response}\n",
    "\n",
    "\n",
    "graph_builder = StateGraph(State).add_sequence([retrieve, generate])\n",
    "graph_builder.add_edge(START, \"retrieve\")\n",
    "graph = graph_builder.compile(checkpointer=memory)"
   ]
  },
  {
   "cell_type": "code",
   "execution_count": 14,
   "id": "51b6792b-9f85-4124-a4be-cb1714387364",
   "metadata": {},
   "outputs": [
    {
     "data": {
      "image/png": "[encoded data removed]",
      "text/plain": [
       "<IPython.core.display.Image object>"
      ]
     },
     "metadata": {},
     "output_type": "display_data"
    }
   ],
   "source": [
    "from IPython.display import Image, display\n",
    "\n",
    "display(Image(graph.get_graph().draw_mermaid_png()))"
   ]
  },
  {
   "cell_type": "code",
   "execution_count": 62,
   "id": "18f4e79f-3293-4528-a781-300ee9f68b5a",
   "metadata": {},
   "outputs": [],
   "source": [
    "config = {\"configurable\": {\"thread_id\": \"1\"}}\n",
    "\n",
    "def ask(question, config=config):\n",
    "    res = graph.invoke({\"question\": question}, config, stream_mode=\"values\")\n",
    "    for doc in res['context']:\n",
    "        print(f\"Using patient: {doc.metadata['patient']['name']} in context\")\n",
    "    print(res['answer'])"
   ]
  },
  {
   "cell_type": "code",
   "execution_count": 63,
   "id": "6d69760b-9133-4588-9fc6-572a00ff1d28",
   "metadata": {},
   "outputs": [
    {
     "name": "stdout",
     "output_type": "stream",
     "text": [
      "Using patient: Deepika Menon in context\n",
      "Using patient: Deepika Menon in context\n",
      "Using patient: Divya Iyer in context\n",
      "Using patient: Shilpa Reddy in context\n",
      "Yes, there are two patients named Deepika Menon in the data.\n",
      "\n"
     ]
    }
   ],
   "source": [
    "ask(\"Is there any patient called deepika\")"
   ]
  },
  {
   "cell_type": "code",
   "execution_count": 59,
   "id": "f9ea221b-1385-4b91-b76e-b10fc3a0a342",
   "metadata": {},
   "outputs": [
    {
     "name": "stdout",
     "output_type": "stream",
     "text": [
      "Please provide me with the patient data so I can answer the doctor's question about them. I need information such as medical history, current medications, and any other relevant details to provide a helpful summary.\n",
      "\n"
     ]
    }
   ],
   "source": [
    "ask(\"Can you tell me more about them both?\")"
   ]
  },
  {
   "cell_type": "markdown",
   "id": "d4f92612-9b8d-4676-a206-64076bd40cf0",
   "metadata": {},
   "source": [
    "## Pivotting to using SQL\n",
    "\n",
    "Since the embedded vector method is resulting in quite a lot of mistakes (as predicted), we instead pivot to using an SQL query pipeline that has the following structure\n",
    "\n",
    "START => first_draft_sql => refined_sql => results => llm => END"
   ]
  },
  {
   "cell_type": "code",
   "execution_count": 31,
   "id": "f8583ab2-a9b9-4336-9af4-655cd6be542c",
   "metadata": {},
   "outputs": [],
   "source": [
    "from db import PatientDatabase\n",
    "\n",
    "pdb = PatientDatabase()"
   ]
  },
  {
   "cell_type": "code",
   "execution_count": 17,
   "id": "5de94af4-a38b-4543-bf72-23e17e2eec71",
   "metadata": {},
   "outputs": [],
   "source": [
    "with open(\"patients_full.json\", \"r\") as file:\n",
    "    content = file.read()\n",
    "\n",
    "pobj = json.loads(content)['patients']\n",
    "\n",
    "assert len(pobj) != 0"
   ]
  },
  {
   "cell_type": "code",
   "execution_count": 20,
   "id": "a9b10669-cf35-4be0-b2b6-6c354d8efa15",
   "metadata": {},
   "outputs": [],
   "source": [
    "for p in pobj:\n",
    "    pdb.create_patient(p)"
   ]
  },
  {
   "cell_type": "code",
   "execution_count": 22,
   "id": "aa6dadea-2e71-49be-93f2-cb801cc63938",
   "metadata": {},
   "outputs": [],
   "source": [
    "assert len(pdb.select_all_patients()) == len(pobj)"
   ]
  },
  {
   "cell_type": "code",
   "execution_count": 24,
   "id": "40b66082-1f7e-4844-974a-d9df4e5d34c3",
   "metadata": {},
   "outputs": [
    {
     "name": "stdout",
     "output_type": "stream",
     "text": [
      "sqlite\n",
      "['conditions', 'patients', 'problems']\n"
     ]
    }
   ],
   "source": [
    "from langchain_community.utilities import SQLDatabase\n",
    "\n",
    "db = SQLDatabase.from_uri(\"sqlite:///patient_data.db\")\n",
    "print(db.dialect)\n",
    "print(db.get_usable_table_names())"
   ]
  },
  {
   "cell_type": "markdown",
   "id": "9dbe7ab4-aec5-423a-baf7-bd7a1981bc52",
   "metadata": {},
   "source": [
    "Well now that we have a good db system in place and working, we can now create a new application state to go along side it"
   ]
  },
  {
   "cell_type": "code",
   "execution_count": 25,
   "id": "d4648140-5274-4779-a27d-243f8a823786",
   "metadata": {},
   "outputs": [],
   "source": [
    "from typing_extensions import TypedDict\n",
    "\n",
    "\n",
    "class ApplicationState(TypedDict):\n",
    "    question: str\n",
    "    query: str\n",
    "    result: str\n",
    "    answer: str"
   ]
  },
  {
   "cell_type": "markdown",
   "id": "a3475e3e-1f84-4256-997f-1e186427fcc7",
   "metadata": {},
   "source": [
    "Well we would need quite a solid prompt\n",
    "For now, we shall just try without few shotting it"
   ]
  },
  {
   "cell_type": "code",
   "execution_count": 122,
   "id": "72628891-f660-4546-b119-e00b5a1dd850",
   "metadata": {},
   "outputs": [],
   "source": [
    "from langchain_core.prompts import PromptTemplate\n",
    "\n",
    "prompt = PromptTemplate.from_template(\n",
    "    \"\"\"Given an input question, create a syntactically correct {dialect} query to run to help find the answer. \n",
    "Unless the user specifies in his question a specific number of examples they wish to obtain, always limit your \n",
    "query to at most {top_k} results. You can order the results by a relevant column to return the most interesting \n",
    "examples in the database.\n",
    "Never query for all the columns from a specific table, only ask for a the few relevant columns given the question.\n",
    "Pay attention to use only the column names that you can see in the schema description. Be careful to not query for \n",
    "columns that do not exist. Also, pay attention to which column is in which table.\n",
    "Also whenever possible, try to query all the columns if possible and ensure that the primary key is always included in the query\n",
    "Only use the following tables:\n",
    "{table_info}\n",
    "\n",
    "Here is the schema that binds the tables:\n",
    "{schema}\n",
    "\n",
    "Question: {input}\n",
    "    \"\"\")"
   ]
  },
  {
   "cell_type": "code",
   "execution_count": 123,
   "id": "f75b46aa-448b-4481-9e00-bb0b9536b601",
   "metadata": {},
   "outputs": [],
   "source": [
    "context = db.get_context()\n",
    "\n",
    "def write_query(state: ApplicationState):\n",
    "    res_prompt = prompt.invoke(\n",
    "        {\n",
    "            \"dialect\": db.dialect,\n",
    "            \"top_k\": 10,\n",
    "            \"table_info\": db.get_table_info(),\n",
    "            \"input\": state[\"question\"],\n",
    "            \"schema\": context[\"table_info\"]\n",
    "        }\n",
    "    )\n",
    "    result = llm.invoke(res_prompt)\n",
    "    return {\"query\": result}\n",
    "\n",
    "\n",
    "def preprocess_query(state: ApplicationState):\n",
    "    if state[\"query\"] != \"\":\n",
    "        state[\"query\"] = state[\"query\"].replace(\"```\", \"\")\n",
    "        state[\"query\"] = state[\"query\"].replace(\"sqlite\", \"\")\n",
    "        if state[\"query\"].startswith(\"\\n\"): \n",
    "            state[\"query\"] = state[\"query\"][1:]\n",
    "        if state[\"query\"].endswith(\"\\n\"): \n",
    "            state[\"query\"] = state[\"query\"][:-1]\n",
    "\n",
    "    return {\"query\": state[\"query\"]}"
   ]
  },
  {
   "cell_type": "code",
   "execution_count": 124,
   "id": "7bfe35a2-26e3-4e5f-8b61-a31e15cdd3f9",
   "metadata": {},
   "outputs": [],
   "source": [
    "from langchain_community.tools.sql_database.tool import QuerySQLDatabaseTool\n",
    "\n",
    "def execute_query(state: ApplicationState):\n",
    "    execute_query_tool = QuerySQLDatabaseTool(db=db)\n",
    "    return {\"result\": execute_query_tool.invoke(state[\"query\"])}"
   ]
  },
  {
   "cell_type": "code",
   "execution_count": 114,
   "id": "8c00903e-8d05-45f3-b9d7-70e845e800af",
   "metadata": {},
   "outputs": [],
   "source": [
    "def generate_answer(state: ApplicationState):\n",
    "    prompt = (\n",
    "        \"You are a doctor's assistant and your job is to answer the following doctor's question: \"\n",
    "        f'Question: {state[\"question\"]}\\n'\n",
    "        f'With this data as the context: {state[\"result\"]}'\n",
    "    )\n",
    "    response = llm.invoke(prompt)\n",
    "    return {\"answer\": response}"
   ]
  },
  {
   "cell_type": "code",
   "execution_count": 125,
   "id": "10e49280-7a9b-4518-ae36-0e464625f3b5",
   "metadata": {},
   "outputs": [],
   "source": [
    "from langgraph.graph import START, StateGraph\n",
    "\n",
    "graph_builder = StateGraph(ApplicationState).add_sequence(\n",
    "    [write_query, preprocess_query, execute_query, generate_answer]\n",
    ")\n",
    "graph_builder.add_edge(START, \"write_query\")\n",
    "graph = graph_builder.compile()\n"
   ]
  },
  {
   "cell_type": "code",
   "execution_count": 102,
   "id": "179374ad-fa26-48cc-803c-b22456edc464",
   "metadata": {},
   "outputs": [
    {
     "data": {
      "image/png": "[encoded data removed]",
      "text/plain": [
       "<IPython.core.display.Image object>"
      ]
     },
     "metadata": {},
     "output_type": "display_data"
    }
   ],
   "source": [
    "from IPython.display import Image, display\n",
    "\n",
    "display(Image(graph.get_graph().draw_mermaid_png()))\n"
   ]
  },
  {
   "cell_type": "code",
   "execution_count": 103,
   "id": "dcd6d59e-1d11-478c-98b0-df2e28bba476",
   "metadata": {},
   "outputs": [
    {
     "data": {
      "text/plain": [
       "{'question': 'How many patients are there?',\n",
       " 'query': 'SELECT COUNT(id) FROM patients',\n",
       " 'result': '[(37,)]',\n",
       " 'answer': 'There are 37 patients.\\n'}"
      ]
     },
     "execution_count": 103,
     "metadata": {},
     "output_type": "execute_result"
    }
   ],
   "source": [
    "graph.invoke({\"question\": \"How many patients are there?\"})"
   ]
  },
  {
   "cell_type": "code",
   "execution_count": 105,
   "id": "50a604a2-7494-4b7b-b5d1-887816bc306b",
   "metadata": {},
   "outputs": [
    {
     "data": {
      "text/plain": [
       "{'question': 'Is there a patient whose name is LIKE Deepika?',\n",
       " 'query': \"SELECT id, name FROM patients WHERE name LIKE 'Deepika%' LIMIT 10\",\n",
       " 'result': \"[(9, 'Deepika Menon'), (37, 'Deepika Menon')]\",\n",
       " 'answer': 'Yes, there are patients whose names are LIKE Deepika. The query returned two patients named Deepika Menon.\\n'}"
      ]
     },
     "execution_count": 105,
     "metadata": {},
     "output_type": "execute_result"
    }
   ],
   "source": [
    "graph.invoke({\"question\": \"Is there a patient whose name is LIKE Deepika?\"})"
   ]
  },
  {
   "cell_type": "code",
   "execution_count": 121,
   "id": "0ad9bc1a-22cd-4e10-8df5-baac9ace6f19",
   "metadata": {},
   "outputs": [
    {
     "name": "stdout",
     "output_type": "stream",
     "text": [
      "Based on the data I have, the person whose name is like Deepika Menon and lives in Goa is:\n",
      "\n",
      "*   **Name:** Deepika Menon\n",
      "*   **Age:** 41\n",
      "*   **Gender:** Female\n",
      "*   **Location:** Goa\n",
      "*   **Address:** House Number: 78901\n",
      "*   **Phone Number:** 6655443322\n",
      "*   **Presenting Complaint:** Back pain and sciatica.\n",
      "*   **Suggested Specialist:** Orthopedist or Physiotherapist\n",
      "\n",
      "SELECT id, name, age, gender, address, identity, phone, description, recommended_doctor FROM patients WHERE name LIKE 'deepika menon' AND address LIKE 'Goa' LIMIT 10 [(9, 'Deepika Menon', 41, 'Female', 'Goa', 'House Number: 78901', '6655443322', '[AI GENERATED] A 41-year-old female presenting with back pain and sciatica.', '[AI GENERATED] Orthopedist or Physiotherapist')]\n"
     ]
    }
   ],
   "source": [
    "res = graph.invoke({\"question\": \"Can you tell me more about the person whose name is like deepika menon and lives in Goa\"})\n",
    "print(res['answer'])\n",
    "print(res['query'], res['result'])"
   ]
  },
  {
   "cell_type": "code",
   "execution_count": null,
   "id": "36815cce-2338-42cb-bd94-8f87fd524c06",
   "metadata": {},
   "outputs": [],
   "source": []
  }
 ],
 "metadata": {
  "kernelspec": {
   "display_name": "Python 3 (ipykernel)",
   "language": "python",
   "name": "python3"
  },
  "language_info": {
   "codemirror_mode": {
    "name": "ipython",
    "version": 3
   },
   "file_extension": ".py",
   "mimetype": "text/x-python",
   "name": "python",
   "nbconvert_exporter": "python",
   "pygments_lexer": "ipython3",
   "version": "3.12.7"
  }
 },
 "nbformat": 4,
 "nbformat_minor": 5
}
