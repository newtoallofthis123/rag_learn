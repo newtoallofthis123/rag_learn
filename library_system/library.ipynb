{
 "cells": [
  {
   "cell_type": "code",
   "execution_count": 58,
   "id": "844ab773-6bd2-47b5-9743-867bc0aa4776",
   "metadata": {},
   "outputs": [
    {
     "name": "stdin",
     "output_type": "stream",
     "text": [
      " ········\n",
      " ········\n"
     ]
    }
   ],
   "source": [
    "from getpass import getpass\n",
    "GOOGLE_API_KEY = getpass()\n",
    "LANGCHAIN_API_KEY= getpass()"
   ]
  },
  {
   "cell_type": "code",
   "execution_count": 3,
   "id": "22b9a871-4ffd-4f14-8ee4-91d0cbc64fa7",
   "metadata": {
    "collapsed": true,
    "jupyter": {
     "outputs_hidden": true
    }
   },
   "outputs": [
    {
     "name": "stdout",
     "output_type": "stream",
     "text": [
      "Requirement already satisfied: langchain-community in /home/noobscience/Projects/rag_learn/venv/lib/python3.12/site-packages (0.3.18)\n",
      "Requirement already satisfied: tqdm in /home/noobscience/Projects/rag_learn/venv/lib/python3.12/site-packages (4.67.1)\n",
      "Requirement already satisfied: langchain-google-genai in /home/noobscience/Projects/rag_learn/venv/lib/python3.12/site-packages (2.0.10)\n",
      "Requirement already satisfied: ipywidgets in /home/noobscience/Projects/rag_learn/venv/lib/python3.12/site-packages (8.1.5)\n",
      "Collecting jq\n",
      "  Downloading jq-1.8.0-cp312-cp312-manylinux_2_17_x86_64.manylinux2014_x86_64.whl.metadata (7.0 kB)\n",
      "Requirement already satisfied: langchain-text-splitters in /home/noobscience/Projects/rag_learn/venv/lib/python3.12/site-packages (0.3.6)\n",
      "Requirement already satisfied: lxml in /home/noobscience/Projects/rag_learn/venv/lib/python3.12/site-packages (5.3.1)\n",
      "Requirement already satisfied: langchain-core<1.0.0,>=0.3.37 in /home/noobscience/Projects/rag_learn/venv/lib/python3.12/site-packages (from langchain-community) (0.3.37)\n",
      "Requirement already satisfied: langchain<1.0.0,>=0.3.19 in /home/noobscience/Projects/rag_learn/venv/lib/python3.12/site-packages (from langchain-community) (0.3.19)\n",
      "Requirement already satisfied: SQLAlchemy<3,>=1.4 in /home/noobscience/Projects/rag_learn/venv/lib/python3.12/site-packages (from langchain-community) (2.0.38)\n",
      "Requirement already satisfied: requests<3,>=2 in /home/noobscience/Projects/rag_learn/venv/lib/python3.12/site-packages (from langchain-community) (2.32.3)\n",
      "Requirement already satisfied: PyYAML>=5.3 in /home/noobscience/Projects/rag_learn/venv/lib/python3.12/site-packages (from langchain-community) (6.0.2)\n",
      "Requirement already satisfied: aiohttp<4.0.0,>=3.8.3 in /home/noobscience/Projects/rag_learn/venv/lib/python3.12/site-packages (from langchain-community) (3.11.12)\n",
      "Requirement already satisfied: tenacity!=8.4.0,<10,>=8.1.0 in /home/noobscience/Projects/rag_learn/venv/lib/python3.12/site-packages (from langchain-community) (9.0.0)\n",
      "Requirement already satisfied: dataclasses-json<0.7,>=0.5.7 in /home/noobscience/Projects/rag_learn/venv/lib/python3.12/site-packages (from langchain-community) (0.6.7)\n",
      "Requirement already satisfied: pydantic-settings<3.0.0,>=2.4.0 in /home/noobscience/Projects/rag_learn/venv/lib/python3.12/site-packages (from langchain-community) (2.8.0)\n",
      "Requirement already satisfied: langsmith<0.4,>=0.1.125 in /home/noobscience/Projects/rag_learn/venv/lib/python3.12/site-packages (from langchain-community) (0.3.10)\n",
      "Requirement already satisfied: httpx-sse<1.0.0,>=0.4.0 in /home/noobscience/Projects/rag_learn/venv/lib/python3.12/site-packages (from langchain-community) (0.4.0)\n",
      "Requirement already satisfied: numpy<3,>=1.26.2 in /home/noobscience/Projects/rag_learn/venv/lib/python3.12/site-packages (from langchain-community) (2.2.3)\n",
      "Requirement already satisfied: filetype<2.0.0,>=1.2.0 in /home/noobscience/Projects/rag_learn/venv/lib/python3.12/site-packages (from langchain-google-genai) (1.2.0)\n",
      "Requirement already satisfied: google-generativeai<0.9.0,>=0.8.0 in /home/noobscience/Projects/rag_learn/venv/lib/python3.12/site-packages (from langchain-google-genai) (0.8.4)\n",
      "Requirement already satisfied: pydantic<3,>=2 in /home/noobscience/Projects/rag_learn/venv/lib/python3.12/site-packages (from langchain-google-genai) (2.10.6)\n",
      "Requirement already satisfied: comm>=0.1.3 in /home/noobscience/Projects/rag_learn/venv/lib/python3.12/site-packages (from ipywidgets) (0.2.2)\n",
      "Requirement already satisfied: ipython>=6.1.0 in /home/noobscience/Projects/rag_learn/venv/lib/python3.12/site-packages (from ipywidgets) (8.32.0)\n",
      "Requirement already satisfied: traitlets>=4.3.1 in /home/noobscience/Projects/rag_learn/venv/lib/python3.12/site-packages (from ipywidgets) (5.14.3)\n",
      "Requirement already satisfied: widgetsnbextension~=4.0.12 in /home/noobscience/Projects/rag_learn/venv/lib/python3.12/site-packages (from ipywidgets) (4.0.13)\n",
      "Requirement already satisfied: jupyterlab-widgets~=3.0.12 in /home/noobscience/Projects/rag_learn/venv/lib/python3.12/site-packages (from ipywidgets) (3.0.13)\n",
      "Requirement already satisfied: aiohappyeyeballs>=2.3.0 in /home/noobscience/Projects/rag_learn/venv/lib/python3.12/site-packages (from aiohttp<4.0.0,>=3.8.3->langchain-community) (2.4.6)\n",
      "Requirement already satisfied: aiosignal>=1.1.2 in /home/noobscience/Projects/rag_learn/venv/lib/python3.12/site-packages (from aiohttp<4.0.0,>=3.8.3->langchain-community) (1.3.2)\n",
      "Requirement already satisfied: attrs>=17.3.0 in /home/noobscience/Projects/rag_learn/venv/lib/python3.12/site-packages (from aiohttp<4.0.0,>=3.8.3->langchain-community) (25.1.0)\n",
      "Requirement already satisfied: frozenlist>=1.1.1 in /home/noobscience/Projects/rag_learn/venv/lib/python3.12/site-packages (from aiohttp<4.0.0,>=3.8.3->langchain-community) (1.5.0)\n",
      "Requirement already satisfied: multidict<7.0,>=4.5 in /home/noobscience/Projects/rag_learn/venv/lib/python3.12/site-packages (from aiohttp<4.0.0,>=3.8.3->langchain-community) (6.1.0)\n",
      "Requirement already satisfied: propcache>=0.2.0 in /home/noobscience/Projects/rag_learn/venv/lib/python3.12/site-packages (from aiohttp<4.0.0,>=3.8.3->langchain-community) (0.3.0)\n",
      "Requirement already satisfied: yarl<2.0,>=1.17.0 in /home/noobscience/Projects/rag_learn/venv/lib/python3.12/site-packages (from aiohttp<4.0.0,>=3.8.3->langchain-community) (1.18.3)\n",
      "Requirement already satisfied: marshmallow<4.0.0,>=3.18.0 in /home/noobscience/Projects/rag_learn/venv/lib/python3.12/site-packages (from dataclasses-json<0.7,>=0.5.7->langchain-community) (3.26.1)\n",
      "Requirement already satisfied: typing-inspect<1,>=0.4.0 in /home/noobscience/Projects/rag_learn/venv/lib/python3.12/site-packages (from dataclasses-json<0.7,>=0.5.7->langchain-community) (0.9.0)\n",
      "Requirement already satisfied: google-ai-generativelanguage==0.6.15 in /home/noobscience/Projects/rag_learn/venv/lib/python3.12/site-packages (from google-generativeai<0.9.0,>=0.8.0->langchain-google-genai) (0.6.15)\n",
      "Requirement already satisfied: google-api-core in /home/noobscience/Projects/rag_learn/venv/lib/python3.12/site-packages (from google-generativeai<0.9.0,>=0.8.0->langchain-google-genai) (2.24.1)\n",
      "Requirement already satisfied: google-api-python-client in /home/noobscience/Projects/rag_learn/venv/lib/python3.12/site-packages (from google-generativeai<0.9.0,>=0.8.0->langchain-google-genai) (2.161.0)\n",
      "Requirement already satisfied: google-auth>=2.15.0 in /home/noobscience/Projects/rag_learn/venv/lib/python3.12/site-packages (from google-generativeai<0.9.0,>=0.8.0->langchain-google-genai) (2.38.0)\n",
      "Requirement already satisfied: protobuf in /home/noobscience/Projects/rag_learn/venv/lib/python3.12/site-packages (from google-generativeai<0.9.0,>=0.8.0->langchain-google-genai) (5.29.3)\n",
      "Requirement already satisfied: typing-extensions in /home/noobscience/Projects/rag_learn/venv/lib/python3.12/site-packages (from google-generativeai<0.9.0,>=0.8.0->langchain-google-genai) (4.12.2)\n",
      "Requirement already satisfied: proto-plus<2.0.0dev,>=1.22.3 in /home/noobscience/Projects/rag_learn/venv/lib/python3.12/site-packages (from google-ai-generativelanguage==0.6.15->google-generativeai<0.9.0,>=0.8.0->langchain-google-genai) (1.26.0)\n",
      "Requirement already satisfied: decorator in /home/noobscience/Projects/rag_learn/venv/lib/python3.12/site-packages (from ipython>=6.1.0->ipywidgets) (5.1.1)\n",
      "Requirement already satisfied: jedi>=0.16 in /home/noobscience/Projects/rag_learn/venv/lib/python3.12/site-packages (from ipython>=6.1.0->ipywidgets) (0.19.2)\n",
      "Requirement already satisfied: matplotlib-inline in /home/noobscience/Projects/rag_learn/venv/lib/python3.12/site-packages (from ipython>=6.1.0->ipywidgets) (0.1.7)\n",
      "Requirement already satisfied: pexpect>4.3 in /home/noobscience/Projects/rag_learn/venv/lib/python3.12/site-packages (from ipython>=6.1.0->ipywidgets) (4.9.0)\n",
      "Requirement already satisfied: prompt_toolkit<3.1.0,>=3.0.41 in /home/noobscience/Projects/rag_learn/venv/lib/python3.12/site-packages (from ipython>=6.1.0->ipywidgets) (3.0.50)\n",
      "Requirement already satisfied: pygments>=2.4.0 in /home/noobscience/Projects/rag_learn/venv/lib/python3.12/site-packages (from ipython>=6.1.0->ipywidgets) (2.19.1)\n",
      "Requirement already satisfied: stack_data in /home/noobscience/Projects/rag_learn/venv/lib/python3.12/site-packages (from ipython>=6.1.0->ipywidgets) (0.6.3)\n",
      "Requirement already satisfied: jsonpatch<2.0,>=1.33 in /home/noobscience/Projects/rag_learn/venv/lib/python3.12/site-packages (from langchain-core<1.0.0,>=0.3.37->langchain-community) (1.33)\n",
      "Requirement already satisfied: packaging<25,>=23.2 in /home/noobscience/Projects/rag_learn/venv/lib/python3.12/site-packages (from langchain-core<1.0.0,>=0.3.37->langchain-community) (24.2)\n",
      "Requirement already satisfied: httpx<1,>=0.23.0 in /home/noobscience/Projects/rag_learn/venv/lib/python3.12/site-packages (from langsmith<0.4,>=0.1.125->langchain-community) (0.28.1)\n",
      "Requirement already satisfied: orjson<4.0.0,>=3.9.14 in /home/noobscience/Projects/rag_learn/venv/lib/python3.12/site-packages (from langsmith<0.4,>=0.1.125->langchain-community) (3.10.15)\n",
      "Requirement already satisfied: requests-toolbelt<2.0.0,>=1.0.0 in /home/noobscience/Projects/rag_learn/venv/lib/python3.12/site-packages (from langsmith<0.4,>=0.1.125->langchain-community) (1.0.0)\n",
      "Requirement already satisfied: zstandard<0.24.0,>=0.23.0 in /home/noobscience/Projects/rag_learn/venv/lib/python3.12/site-packages (from langsmith<0.4,>=0.1.125->langchain-community) (0.23.0)\n",
      "Requirement already satisfied: annotated-types>=0.6.0 in /home/noobscience/Projects/rag_learn/venv/lib/python3.12/site-packages (from pydantic<3,>=2->langchain-google-genai) (0.7.0)\n",
      "Requirement already satisfied: pydantic-core==2.27.2 in /home/noobscience/Projects/rag_learn/venv/lib/python3.12/site-packages (from pydantic<3,>=2->langchain-google-genai) (2.27.2)\n",
      "Requirement already satisfied: python-dotenv>=0.21.0 in /home/noobscience/Projects/rag_learn/venv/lib/python3.12/site-packages (from pydantic-settings<3.0.0,>=2.4.0->langchain-community) (1.0.1)\n",
      "Requirement already satisfied: charset-normalizer<4,>=2 in /home/noobscience/Projects/rag_learn/venv/lib/python3.12/site-packages (from requests<3,>=2->langchain-community) (3.4.1)\n",
      "Requirement already satisfied: idna<4,>=2.5 in /home/noobscience/Projects/rag_learn/venv/lib/python3.12/site-packages (from requests<3,>=2->langchain-community) (3.10)\n",
      "Requirement already satisfied: urllib3<3,>=1.21.1 in /home/noobscience/Projects/rag_learn/venv/lib/python3.12/site-packages (from requests<3,>=2->langchain-community) (2.3.0)\n",
      "Requirement already satisfied: certifi>=2017.4.17 in /home/noobscience/Projects/rag_learn/venv/lib/python3.12/site-packages (from requests<3,>=2->langchain-community) (2025.1.31)\n",
      "Requirement already satisfied: greenlet!=0.4.17 in /home/noobscience/Projects/rag_learn/venv/lib/python3.12/site-packages (from SQLAlchemy<3,>=1.4->langchain-community) (3.1.1)\n",
      "Requirement already satisfied: googleapis-common-protos<2.0.dev0,>=1.56.2 in /home/noobscience/Projects/rag_learn/venv/lib/python3.12/site-packages (from google-api-core->google-generativeai<0.9.0,>=0.8.0->langchain-google-genai) (1.68.0)\n",
      "Requirement already satisfied: cachetools<6.0,>=2.0.0 in /home/noobscience/Projects/rag_learn/venv/lib/python3.12/site-packages (from google-auth>=2.15.0->google-generativeai<0.9.0,>=0.8.0->langchain-google-genai) (5.5.2)\n",
      "Requirement already satisfied: pyasn1-modules>=0.2.1 in /home/noobscience/Projects/rag_learn/venv/lib/python3.12/site-packages (from google-auth>=2.15.0->google-generativeai<0.9.0,>=0.8.0->langchain-google-genai) (0.4.1)\n",
      "Requirement already satisfied: rsa<5,>=3.1.4 in /home/noobscience/Projects/rag_learn/venv/lib/python3.12/site-packages (from google-auth>=2.15.0->google-generativeai<0.9.0,>=0.8.0->langchain-google-genai) (4.9)\n",
      "Requirement already satisfied: anyio in /home/noobscience/Projects/rag_learn/venv/lib/python3.12/site-packages (from httpx<1,>=0.23.0->langsmith<0.4,>=0.1.125->langchain-community) (4.8.0)\n",
      "Requirement already satisfied: httpcore==1.* in /home/noobscience/Projects/rag_learn/venv/lib/python3.12/site-packages (from httpx<1,>=0.23.0->langsmith<0.4,>=0.1.125->langchain-community) (1.0.7)\n",
      "Requirement already satisfied: h11<0.15,>=0.13 in /home/noobscience/Projects/rag_learn/venv/lib/python3.12/site-packages (from httpcore==1.*->httpx<1,>=0.23.0->langsmith<0.4,>=0.1.125->langchain-community) (0.14.0)\n",
      "Requirement already satisfied: parso<0.9.0,>=0.8.4 in /home/noobscience/Projects/rag_learn/venv/lib/python3.12/site-packages (from jedi>=0.16->ipython>=6.1.0->ipywidgets) (0.8.4)\n",
      "Requirement already satisfied: jsonpointer>=1.9 in /home/noobscience/Projects/rag_learn/venv/lib/python3.12/site-packages (from jsonpatch<2.0,>=1.33->langchain-core<1.0.0,>=0.3.37->langchain-community) (3.0.0)\n",
      "Requirement already satisfied: ptyprocess>=0.5 in /home/noobscience/Projects/rag_learn/venv/lib/python3.12/site-packages (from pexpect>4.3->ipython>=6.1.0->ipywidgets) (0.7.0)\n",
      "Requirement already satisfied: wcwidth in /home/noobscience/Projects/rag_learn/venv/lib/python3.12/site-packages (from prompt_toolkit<3.1.0,>=3.0.41->ipython>=6.1.0->ipywidgets) (0.2.13)\n",
      "Requirement already satisfied: mypy-extensions>=0.3.0 in /home/noobscience/Projects/rag_learn/venv/lib/python3.12/site-packages (from typing-inspect<1,>=0.4.0->dataclasses-json<0.7,>=0.5.7->langchain-community) (1.0.0)\n",
      "Requirement already satisfied: httplib2<1.dev0,>=0.19.0 in /home/noobscience/Projects/rag_learn/venv/lib/python3.12/site-packages (from google-api-python-client->google-generativeai<0.9.0,>=0.8.0->langchain-google-genai) (0.22.0)\n",
      "Requirement already satisfied: google-auth-httplib2<1.0.0,>=0.2.0 in /home/noobscience/Projects/rag_learn/venv/lib/python3.12/site-packages (from google-api-python-client->google-generativeai<0.9.0,>=0.8.0->langchain-google-genai) (0.2.0)\n",
      "Requirement already satisfied: uritemplate<5,>=3.0.1 in /home/noobscience/Projects/rag_learn/venv/lib/python3.12/site-packages (from google-api-python-client->google-generativeai<0.9.0,>=0.8.0->langchain-google-genai) (4.1.1)\n",
      "Requirement already satisfied: executing>=1.2.0 in /home/noobscience/Projects/rag_learn/venv/lib/python3.12/site-packages (from stack_data->ipython>=6.1.0->ipywidgets) (2.2.0)\n",
      "Requirement already satisfied: asttokens>=2.1.0 in /home/noobscience/Projects/rag_learn/venv/lib/python3.12/site-packages (from stack_data->ipython>=6.1.0->ipywidgets) (3.0.0)\n",
      "Requirement already satisfied: pure-eval in /home/noobscience/Projects/rag_learn/venv/lib/python3.12/site-packages (from stack_data->ipython>=6.1.0->ipywidgets) (0.2.3)\n",
      "Requirement already satisfied: grpcio<2.0dev,>=1.33.2 in /home/noobscience/Projects/rag_learn/venv/lib/python3.12/site-packages (from google-api-core[grpc]!=2.0.*,!=2.1.*,!=2.10.*,!=2.2.*,!=2.3.*,!=2.4.*,!=2.5.*,!=2.6.*,!=2.7.*,!=2.8.*,!=2.9.*,<3.0.0dev,>=1.34.1->google-ai-generativelanguage==0.6.15->google-generativeai<0.9.0,>=0.8.0->langchain-google-genai) (1.70.0)\n",
      "Requirement already satisfied: grpcio-status<2.0.dev0,>=1.33.2 in /home/noobscience/Projects/rag_learn/venv/lib/python3.12/site-packages (from google-api-core[grpc]!=2.0.*,!=2.1.*,!=2.10.*,!=2.2.*,!=2.3.*,!=2.4.*,!=2.5.*,!=2.6.*,!=2.7.*,!=2.8.*,!=2.9.*,<3.0.0dev,>=1.34.1->google-ai-generativelanguage==0.6.15->google-generativeai<0.9.0,>=0.8.0->langchain-google-genai) (1.70.0)\n",
      "Requirement already satisfied: pyparsing!=3.0.0,!=3.0.1,!=3.0.2,!=3.0.3,<4,>=2.4.2 in /home/noobscience/Projects/rag_learn/venv/lib/python3.12/site-packages (from httplib2<1.dev0,>=0.19.0->google-api-python-client->google-generativeai<0.9.0,>=0.8.0->langchain-google-genai) (3.2.1)\n",
      "Requirement already satisfied: pyasn1<0.7.0,>=0.4.6 in /home/noobscience/Projects/rag_learn/venv/lib/python3.12/site-packages (from pyasn1-modules>=0.2.1->google-auth>=2.15.0->google-generativeai<0.9.0,>=0.8.0->langchain-google-genai) (0.6.1)\n",
      "Requirement already satisfied: sniffio>=1.1 in /home/noobscience/Projects/rag_learn/venv/lib/python3.12/site-packages (from anyio->httpx<1,>=0.23.0->langsmith<0.4,>=0.1.125->langchain-community) (1.3.1)\n",
      "Downloading jq-1.8.0-cp312-cp312-manylinux_2_17_x86_64.manylinux2014_x86_64.whl (748 kB)\n",
      "\u001b[2K   \u001b[38;2;114;156;31m━━━━━━━━━━━━━━━━━━━━━━━━━━━━━━━━━━━━━━━━\u001b[0m \u001b[32m748.9/748.9 kB\u001b[0m \u001b[31m17.0 MB/s\u001b[0m eta \u001b[36m0:00:00\u001b[0m\n",
      "Installing collected packages: jq\n",
      "Successfully installed jq-1.8.0\n"
     ]
    }
   ],
   "source": [
    "!pip install langchain-community tqdm langchain-google-genai ipywidgets jq langchain-text-splitters lxml"
   ]
  },
  {
   "cell_type": "code",
   "execution_count": 65,
   "id": "467b929f-5842-447e-9add-259ef348befb",
   "metadata": {},
   "outputs": [],
   "source": [
    "import os\n",
    "os.environ[\"LANGSMITH_PROJECT\"]=\"pr-drab-document-66\"\n",
    "os.environ[\"LANGSMITH_TRACING\"] = \"true\"\n",
    "if not os.environ.get(\"LANGSMITH_API_KEY\"):\n",
    "    os.environ[\"LANGSMITH_API_KEY\"] = LANGCHAIN_API_KEY"
   ]
  },
  {
   "cell_type": "code",
   "execution_count": 15,
   "id": "5344fbdb-b8be-428d-84df-0ae146933fc5",
   "metadata": {},
   "outputs": [
    {
     "name": "stdout",
     "output_type": "stream",
     "text": [
      "1\n"
     ]
    }
   ],
   "source": [
    "with open(\"books.json\", \"r\") as file:\n",
    "    content = file.read()\n",
    "\n",
    "import json\n",
    "obj = json.loads(content)\n",
    "print(len(obj))"
   ]
  },
  {
   "cell_type": "code",
   "execution_count": 29,
   "id": "a7093d57-4838-4dce-9225-80c93d3c0c2d",
   "metadata": {},
   "outputs": [
    {
     "name": "stdout",
     "output_type": "stream",
     "text": [
      "{'book_id': 'the-call-of-the-wild', 'author': 'Jack London', 'title': 'The Call of the Wild', 'description': 'Buck, a domesticated dog, is stolen from his home and sold into service as a sled dog in the Klondike.', 'full_desc': 'Title of the book is The Call of the Wild. The book is about Buck, a domesticated dog, is stolen from his home and sold into service as a sled dog in the Klondike. and it is written by Jack London.'}\n"
     ]
    }
   ],
   "source": [
    "def convert_to_text_repr(json)->str:\n",
    "    return f\"Title of the book is {json['title']}. The book is about {json['description']} and it is written by {json['author']}.\"\n",
    "\n",
    "for i,a in enumerate(obj['books']):\n",
    "    obj['books'][i]['full_desc'] = convert_to_text_repr(a) \n",
    "print(obj['books'][0])\n",
    "\n",
    "with open(\"books.json\", \"w\") as file:\n",
    "    file.write(json.dumps(obj))"
   ]
  },
  {
   "cell_type": "code",
   "execution_count": 30,
   "id": "d5b88755-2572-4dd5-8150-6d96a51ac8f1",
   "metadata": {},
   "outputs": [
    {
     "data": {
      "text/plain": [
       "Document(metadata={'source': '/home/noobscience/Projects/rag_learn/library_system/books.json', 'seq_num': 1, 'title': 'The Call of the Wild', 'author': 'Jack London', 'id': 'the-call-of-the-wild', 'description': 'Buck, a domesticated dog, is stolen from his home and sold into service as a sled dog in the Klondike.'}, page_content='Title of the book is The Call of the Wild. The book is about Buck, a domesticated dog, is stolen from his home and sold into service as a sled dog in the Klondike. and it is written by Jack London.')"
      ]
     },
     "execution_count": 30,
     "metadata": {},
     "output_type": "execute_result"
    }
   ],
   "source": [
    "from langchain_community.document_loaders import TextLoader\n",
    "\n",
    "# Define the metadata extraction function.\n",
    "def metadata_func(record: dict, metadata: dict) -> dict:\n",
    "    metadata[\"title\"] = record[\"title\"]\n",
    "    metadata[\"author\"] = record[\"author\"]\n",
    "    metadata[\"id\"] = record[\"book_id\"]\n",
    "    metadata[\"description\"] = record[\"description\"]\n",
    "    return metadata\n",
    "\n",
    "loader = JSONLoader(\n",
    "    file_path=\"./books.json\",\n",
    "    jq_schema=\".books[]\",\n",
    "    text_content=True,\n",
    "    content_key='.full_desc',\n",
    "    json_lines=True,\n",
    "    is_content_key_jq_parsable=True,\n",
    "    metadata_func=metadata_func\n",
    ")\n",
    "docs = loader.load()\n",
    "docs[0]"
   ]
  },
  {
   "cell_type": "code",
   "execution_count": 31,
   "id": "06d5e7fc-1911-43fa-b458-0551cf1380c6",
   "metadata": {},
   "outputs": [],
   "source": [
    "from langchain_google_genai import GoogleGenerativeAIEmbeddings\n",
    "\n",
    "embeddings = GoogleGenerativeAIEmbeddings(model=\"models/text-embedding-004\", google_api_key=GOOGLE_API_KEY)"
   ]
  },
  {
   "cell_type": "code",
   "execution_count": 32,
   "id": "19faa85b-7a20-4fec-a07c-a3799325b2e7",
   "metadata": {},
   "outputs": [],
   "source": [
    "from langchain_text_splitters import RecursiveCharacterTextSplitter\n",
    "\n",
    "text_splitter = RecursiveCharacterTextSplitter(chunk_size=1000, chunk_overlap=200)\n",
    "all_splits = text_splitter.split_documents(docs)"
   ]
  },
  {
   "cell_type": "code",
   "execution_count": 35,
   "id": "cbe6b4d5-7d10-49df-b000-eab47772427e",
   "metadata": {},
   "outputs": [
    {
     "name": "stdout",
     "output_type": "stream",
     "text": [
      "40\n"
     ]
    }
   ],
   "source": [
    "print(len(all_splits))"
   ]
  },
  {
   "cell_type": "code",
   "execution_count": 34,
   "id": "f0272a2b-c271-4807-ab39-843eac4c7c70",
   "metadata": {
    "collapsed": true,
    "jupyter": {
     "outputs_hidden": true
    }
   },
   "outputs": [
    {
     "data": {
      "text/plain": [
       "['4029b357-febc-496d-b80f-ee892c393daa',\n",
       " '2ec25b06-1860-4268-ae96-d95575c9b416',\n",
       " 'd7daa0cb-570c-465b-8ae1-00af8a908ba2',\n",
       " '2bbcfcc1-c9e6-4dbd-89f4-a8f10c4f3cdb',\n",
       " '040a6c39-2b18-4a33-9148-c618b4457988',\n",
       " '2c971cb3-d455-4759-9dd5-027b5419b387',\n",
       " 'b530c89d-01d2-4861-bd51-9ee85276f780',\n",
       " '9638b668-0dd5-45d0-a99e-546049fff9f0',\n",
       " 'e5c6ea22-96f9-4aeb-b716-717929408a77',\n",
       " 'd357a81b-70aa-4082-bd09-24803ed16631',\n",
       " 'fb1cf9f5-965c-4669-954b-51008ba6794b',\n",
       " 'cd2e3f56-c6a9-40f9-a130-e98246f35d5f',\n",
       " 'cd24efb7-5ba2-4127-af21-eb615cd9f95d',\n",
       " 'bfd05bab-50ca-43a8-8dbb-4871c6fc33c5',\n",
       " 'e9f2171b-ef54-400d-9723-8d3f1247dc01',\n",
       " '93bc3a89-844f-4b2f-9402-f1eada1ba30e',\n",
       " '08b58cc4-552f-474d-9e99-6ac20b560258',\n",
       " '830cbe02-e79d-4835-8fd7-9460900590ec',\n",
       " 'a5d94d61-c640-422d-bd5a-6b597c56f61e',\n",
       " '9653ee95-abe5-470f-acae-20c220e85381',\n",
       " '717d011c-7309-4ebb-9eb2-ba5dcbcb0a3c',\n",
       " '61783177-7ce0-4fa2-8254-bc99f5853b14',\n",
       " 'c3467562-2f25-48ea-b20e-a12b20d54364',\n",
       " '0805c8bd-3419-4a02-86ad-0df1b1f5aed5',\n",
       " '8f4fea61-b7f7-4188-b7de-738af666dde3',\n",
       " '785f978c-f45c-46db-8495-9367b580ae2f',\n",
       " 'd1c9e606-203d-4897-9c6c-3c73feca5b6d',\n",
       " '646249aa-5ae8-4ee0-b2f0-ea8808b7fed1',\n",
       " 'a1afd1ce-47b4-4706-9356-fdaaabf482ca',\n",
       " '2afcc7be-ee87-43ae-8963-a71da7c08e85',\n",
       " '2f62a722-bf72-4297-9dc3-42779dd0c3b6',\n",
       " '0e7b0c6c-002b-4cd6-b381-9431bc46b33b',\n",
       " '6d4e0320-94ed-4dcd-bc36-1adc6e75ea5a',\n",
       " '182c557a-0737-44e0-9e43-d2b0ecb77240',\n",
       " '66570342-0f16-4a42-8dec-62c9a4167856',\n",
       " 'fd50e660-4c59-4ea5-90e5-cd333bb9e78e',\n",
       " '882eb82b-ae66-497f-ba03-b7b5dc46045f',\n",
       " 'b697d854-53a4-44db-a9e7-99bb7ec89d1d',\n",
       " '2d6153a5-509d-461f-b058-f76fd877f60b',\n",
       " '668a5acb-259c-4017-b861-dce504a49a94']"
      ]
     },
     "execution_count": 34,
     "metadata": {},
     "output_type": "execute_result"
    }
   ],
   "source": [
    "from langchain_core.vectorstores import InMemoryVectorStore\n",
    "\n",
    "vector_store = InMemoryVectorStore(embeddings)\n",
    "vector_store.add_documents(documents=all_splits)"
   ]
  },
  {
   "cell_type": "code",
   "execution_count": 53,
   "id": "b0acbcf1-506b-478e-a0e2-d1f82acc3479",
   "metadata": {},
   "outputs": [
    {
     "name": "stdout",
     "output_type": "stream",
     "text": [
      "* [SIM=0.603764] Title of the book is The Hound of the Baskervilles. The book is about Sherlock Holmes investigates a mysterious hound that haunts the Baskerville family. and it is written by Arthur Conan Doyle. [{'source': '/home/noobscience/Projects/rag_learn/library_system/books.json', 'seq_num': 16, 'title': 'The Hound of the Baskervilles', 'author': 'Arthur Conan Doyle', 'id': 'the-hound-of-the-baskervilles', 'description': 'Sherlock Holmes investigates a mysterious hound that haunts the Baskerville family.'}]\n"
     ]
    }
   ],
   "source": [
    "results = vector_store.similarity_search_with_score(query=\"Arthur Conan Doyle\",k=1)\n",
    "for doc, score in results:\n",
    "    print(f\"* [SIM={score:3f}] {doc.page_content} [{doc.metadata}]\")"
   ]
  },
  {
   "cell_type": "code",
   "execution_count": 37,
   "id": "5d1b9d20-bc7f-42e2-b162-754d817ad39e",
   "metadata": {},
   "outputs": [],
   "source": [
    "from langchain_core.globals import set_llm_cache\n",
    "from langchain_google_genai import GoogleGenerativeAI\n",
    "from langchain_core.caches import InMemoryCache\n",
    "\n",
    "llm = GoogleGenerativeAI(model=\"gemini-2.0-flash\", google_api_key=GOOGLE_API_KEY)\n",
    "\n",
    "set_llm_cache(InMemoryCache())"
   ]
  },
  {
   "cell_type": "code",
   "execution_count": 39,
   "id": "88405368-a6a3-4cd0-8cbf-9dc699062cc3",
   "metadata": {},
   "outputs": [],
   "source": [
    "from langchain.prompts import PromptTemplate\n",
    "\n",
    "prompt = PromptTemplate.from_template(\"\"\"You are a librarian who is tasked with answering this question from a customer: {question}.\n",
    "You will likely need this context of a book that you have in the library: {context}. \n",
    "Respond with a small summary of the book, the title and mention it's author as well\"\"\")"
   ]
  },
  {
   "cell_type": "code",
   "execution_count": 43,
   "id": "f1d4ab43-5f17-4b0a-9de0-70bf704f15d7",
   "metadata": {},
   "outputs": [],
   "source": [
    "from typing import TypedDict, List\n",
    "from langchain_core.documents import Document\n",
    "class State(TypedDict):\n",
    "    question: str\n",
    "    context: List[Document]\n",
    "    answer: str"
   ]
  },
  {
   "cell_type": "code",
   "execution_count": 45,
   "id": "3bc23873-035c-4d70-a61b-372a4cb8a95b",
   "metadata": {
    "collapsed": true,
    "jupyter": {
     "outputs_hidden": true
    }
   },
   "outputs": [
    {
     "name": "stdout",
     "output_type": "stream",
     "text": [
      "Collecting langgraph\n",
      "  Downloading langgraph-0.2.74-py3-none-any.whl.metadata (17 kB)\n",
      "Requirement already satisfied: langchain-core!=0.3.0,!=0.3.1,!=0.3.10,!=0.3.11,!=0.3.12,!=0.3.13,!=0.3.14,!=0.3.15,!=0.3.16,!=0.3.17,!=0.3.18,!=0.3.19,!=0.3.2,!=0.3.20,!=0.3.21,!=0.3.22,!=0.3.3,!=0.3.4,!=0.3.5,!=0.3.6,!=0.3.7,!=0.3.8,!=0.3.9,<0.4.0,>=0.2.43 in /home/noobscience/Projects/rag_learn/venv/lib/python3.12/site-packages (from langgraph) (0.3.37)\n",
      "Collecting langgraph-checkpoint<3.0.0,>=2.0.10 (from langgraph)\n",
      "  Downloading langgraph_checkpoint-2.0.16-py3-none-any.whl.metadata (4.6 kB)\n",
      "Collecting langgraph-sdk<0.2.0,>=0.1.42 (from langgraph)\n",
      "  Downloading langgraph_sdk-0.1.53-py3-none-any.whl.metadata (1.8 kB)\n",
      "Requirement already satisfied: langsmith<0.4,>=0.1.125 in /home/noobscience/Projects/rag_learn/venv/lib/python3.12/site-packages (from langchain-core!=0.3.0,!=0.3.1,!=0.3.10,!=0.3.11,!=0.3.12,!=0.3.13,!=0.3.14,!=0.3.15,!=0.3.16,!=0.3.17,!=0.3.18,!=0.3.19,!=0.3.2,!=0.3.20,!=0.3.21,!=0.3.22,!=0.3.3,!=0.3.4,!=0.3.5,!=0.3.6,!=0.3.7,!=0.3.8,!=0.3.9,<0.4.0,>=0.2.43->langgraph) (0.3.10)\n",
      "Requirement already satisfied: tenacity!=8.4.0,<10.0.0,>=8.1.0 in /home/noobscience/Projects/rag_learn/venv/lib/python3.12/site-packages (from langchain-core!=0.3.0,!=0.3.1,!=0.3.10,!=0.3.11,!=0.3.12,!=0.3.13,!=0.3.14,!=0.3.15,!=0.3.16,!=0.3.17,!=0.3.18,!=0.3.19,!=0.3.2,!=0.3.20,!=0.3.21,!=0.3.22,!=0.3.3,!=0.3.4,!=0.3.5,!=0.3.6,!=0.3.7,!=0.3.8,!=0.3.9,<0.4.0,>=0.2.43->langgraph) (9.0.0)\n",
      "Requirement already satisfied: jsonpatch<2.0,>=1.33 in /home/noobscience/Projects/rag_learn/venv/lib/python3.12/site-packages (from langchain-core!=0.3.0,!=0.3.1,!=0.3.10,!=0.3.11,!=0.3.12,!=0.3.13,!=0.3.14,!=0.3.15,!=0.3.16,!=0.3.17,!=0.3.18,!=0.3.19,!=0.3.2,!=0.3.20,!=0.3.21,!=0.3.22,!=0.3.3,!=0.3.4,!=0.3.5,!=0.3.6,!=0.3.7,!=0.3.8,!=0.3.9,<0.4.0,>=0.2.43->langgraph) (1.33)\n",
      "Requirement already satisfied: PyYAML>=5.3 in /home/noobscience/Projects/rag_learn/venv/lib/python3.12/site-packages (from langchain-core!=0.3.0,!=0.3.1,!=0.3.10,!=0.3.11,!=0.3.12,!=0.3.13,!=0.3.14,!=0.3.15,!=0.3.16,!=0.3.17,!=0.3.18,!=0.3.19,!=0.3.2,!=0.3.20,!=0.3.21,!=0.3.22,!=0.3.3,!=0.3.4,!=0.3.5,!=0.3.6,!=0.3.7,!=0.3.8,!=0.3.9,<0.4.0,>=0.2.43->langgraph) (6.0.2)\n",
      "Requirement already satisfied: packaging<25,>=23.2 in /home/noobscience/Projects/rag_learn/venv/lib/python3.12/site-packages (from langchain-core!=0.3.0,!=0.3.1,!=0.3.10,!=0.3.11,!=0.3.12,!=0.3.13,!=0.3.14,!=0.3.15,!=0.3.16,!=0.3.17,!=0.3.18,!=0.3.19,!=0.3.2,!=0.3.20,!=0.3.21,!=0.3.22,!=0.3.3,!=0.3.4,!=0.3.5,!=0.3.6,!=0.3.7,!=0.3.8,!=0.3.9,<0.4.0,>=0.2.43->langgraph) (24.2)\n",
      "Requirement already satisfied: typing-extensions>=4.7 in /home/noobscience/Projects/rag_learn/venv/lib/python3.12/site-packages (from langchain-core!=0.3.0,!=0.3.1,!=0.3.10,!=0.3.11,!=0.3.12,!=0.3.13,!=0.3.14,!=0.3.15,!=0.3.16,!=0.3.17,!=0.3.18,!=0.3.19,!=0.3.2,!=0.3.20,!=0.3.21,!=0.3.22,!=0.3.3,!=0.3.4,!=0.3.5,!=0.3.6,!=0.3.7,!=0.3.8,!=0.3.9,<0.4.0,>=0.2.43->langgraph) (4.12.2)\n",
      "Requirement already satisfied: pydantic<3.0.0,>=2.7.4 in /home/noobscience/Projects/rag_learn/venv/lib/python3.12/site-packages (from langchain-core!=0.3.0,!=0.3.1,!=0.3.10,!=0.3.11,!=0.3.12,!=0.3.13,!=0.3.14,!=0.3.15,!=0.3.16,!=0.3.17,!=0.3.18,!=0.3.19,!=0.3.2,!=0.3.20,!=0.3.21,!=0.3.22,!=0.3.3,!=0.3.4,!=0.3.5,!=0.3.6,!=0.3.7,!=0.3.8,!=0.3.9,<0.4.0,>=0.2.43->langgraph) (2.10.6)\n",
      "Collecting msgpack<2.0.0,>=1.1.0 (from langgraph-checkpoint<3.0.0,>=2.0.10->langgraph)\n",
      "  Using cached msgpack-1.1.0-cp312-cp312-manylinux_2_17_x86_64.manylinux2014_x86_64.whl.metadata (8.4 kB)\n",
      "Requirement already satisfied: httpx>=0.25.2 in /home/noobscience/Projects/rag_learn/venv/lib/python3.12/site-packages (from langgraph-sdk<0.2.0,>=0.1.42->langgraph) (0.28.1)\n",
      "Requirement already satisfied: orjson>=3.10.1 in /home/noobscience/Projects/rag_learn/venv/lib/python3.12/site-packages (from langgraph-sdk<0.2.0,>=0.1.42->langgraph) (3.10.15)\n",
      "Requirement already satisfied: anyio in /home/noobscience/Projects/rag_learn/venv/lib/python3.12/site-packages (from httpx>=0.25.2->langgraph-sdk<0.2.0,>=0.1.42->langgraph) (4.8.0)\n",
      "Requirement already satisfied: certifi in /home/noobscience/Projects/rag_learn/venv/lib/python3.12/site-packages (from httpx>=0.25.2->langgraph-sdk<0.2.0,>=0.1.42->langgraph) (2025.1.31)\n",
      "Requirement already satisfied: httpcore==1.* in /home/noobscience/Projects/rag_learn/venv/lib/python3.12/site-packages (from httpx>=0.25.2->langgraph-sdk<0.2.0,>=0.1.42->langgraph) (1.0.7)\n",
      "Requirement already satisfied: idna in /home/noobscience/Projects/rag_learn/venv/lib/python3.12/site-packages (from httpx>=0.25.2->langgraph-sdk<0.2.0,>=0.1.42->langgraph) (3.10)\n",
      "Requirement already satisfied: h11<0.15,>=0.13 in /home/noobscience/Projects/rag_learn/venv/lib/python3.12/site-packages (from httpcore==1.*->httpx>=0.25.2->langgraph-sdk<0.2.0,>=0.1.42->langgraph) (0.14.0)\n",
      "Requirement already satisfied: jsonpointer>=1.9 in /home/noobscience/Projects/rag_learn/venv/lib/python3.12/site-packages (from jsonpatch<2.0,>=1.33->langchain-core!=0.3.0,!=0.3.1,!=0.3.10,!=0.3.11,!=0.3.12,!=0.3.13,!=0.3.14,!=0.3.15,!=0.3.16,!=0.3.17,!=0.3.18,!=0.3.19,!=0.3.2,!=0.3.20,!=0.3.21,!=0.3.22,!=0.3.3,!=0.3.4,!=0.3.5,!=0.3.6,!=0.3.7,!=0.3.8,!=0.3.9,<0.4.0,>=0.2.43->langgraph) (3.0.0)\n",
      "Requirement already satisfied: requests<3,>=2 in /home/noobscience/Projects/rag_learn/venv/lib/python3.12/site-packages (from langsmith<0.4,>=0.1.125->langchain-core!=0.3.0,!=0.3.1,!=0.3.10,!=0.3.11,!=0.3.12,!=0.3.13,!=0.3.14,!=0.3.15,!=0.3.16,!=0.3.17,!=0.3.18,!=0.3.19,!=0.3.2,!=0.3.20,!=0.3.21,!=0.3.22,!=0.3.3,!=0.3.4,!=0.3.5,!=0.3.6,!=0.3.7,!=0.3.8,!=0.3.9,<0.4.0,>=0.2.43->langgraph) (2.32.3)\n",
      "Requirement already satisfied: requests-toolbelt<2.0.0,>=1.0.0 in /home/noobscience/Projects/rag_learn/venv/lib/python3.12/site-packages (from langsmith<0.4,>=0.1.125->langchain-core!=0.3.0,!=0.3.1,!=0.3.10,!=0.3.11,!=0.3.12,!=0.3.13,!=0.3.14,!=0.3.15,!=0.3.16,!=0.3.17,!=0.3.18,!=0.3.19,!=0.3.2,!=0.3.20,!=0.3.21,!=0.3.22,!=0.3.3,!=0.3.4,!=0.3.5,!=0.3.6,!=0.3.7,!=0.3.8,!=0.3.9,<0.4.0,>=0.2.43->langgraph) (1.0.0)\n",
      "Requirement already satisfied: zstandard<0.24.0,>=0.23.0 in /home/noobscience/Projects/rag_learn/venv/lib/python3.12/site-packages (from langsmith<0.4,>=0.1.125->langchain-core!=0.3.0,!=0.3.1,!=0.3.10,!=0.3.11,!=0.3.12,!=0.3.13,!=0.3.14,!=0.3.15,!=0.3.16,!=0.3.17,!=0.3.18,!=0.3.19,!=0.3.2,!=0.3.20,!=0.3.21,!=0.3.22,!=0.3.3,!=0.3.4,!=0.3.5,!=0.3.6,!=0.3.7,!=0.3.8,!=0.3.9,<0.4.0,>=0.2.43->langgraph) (0.23.0)\n",
      "Requirement already satisfied: annotated-types>=0.6.0 in /home/noobscience/Projects/rag_learn/venv/lib/python3.12/site-packages (from pydantic<3.0.0,>=2.7.4->langchain-core!=0.3.0,!=0.3.1,!=0.3.10,!=0.3.11,!=0.3.12,!=0.3.13,!=0.3.14,!=0.3.15,!=0.3.16,!=0.3.17,!=0.3.18,!=0.3.19,!=0.3.2,!=0.3.20,!=0.3.21,!=0.3.22,!=0.3.3,!=0.3.4,!=0.3.5,!=0.3.6,!=0.3.7,!=0.3.8,!=0.3.9,<0.4.0,>=0.2.43->langgraph) (0.7.0)\n",
      "Requirement already satisfied: pydantic-core==2.27.2 in /home/noobscience/Projects/rag_learn/venv/lib/python3.12/site-packages (from pydantic<3.0.0,>=2.7.4->langchain-core!=0.3.0,!=0.3.1,!=0.3.10,!=0.3.11,!=0.3.12,!=0.3.13,!=0.3.14,!=0.3.15,!=0.3.16,!=0.3.17,!=0.3.18,!=0.3.19,!=0.3.2,!=0.3.20,!=0.3.21,!=0.3.22,!=0.3.3,!=0.3.4,!=0.3.5,!=0.3.6,!=0.3.7,!=0.3.8,!=0.3.9,<0.4.0,>=0.2.43->langgraph) (2.27.2)\n",
      "Requirement already satisfied: charset-normalizer<4,>=2 in /home/noobscience/Projects/rag_learn/venv/lib/python3.12/site-packages (from requests<3,>=2->langsmith<0.4,>=0.1.125->langchain-core!=0.3.0,!=0.3.1,!=0.3.10,!=0.3.11,!=0.3.12,!=0.3.13,!=0.3.14,!=0.3.15,!=0.3.16,!=0.3.17,!=0.3.18,!=0.3.19,!=0.3.2,!=0.3.20,!=0.3.21,!=0.3.22,!=0.3.3,!=0.3.4,!=0.3.5,!=0.3.6,!=0.3.7,!=0.3.8,!=0.3.9,<0.4.0,>=0.2.43->langgraph) (3.4.1)\n",
      "Requirement already satisfied: urllib3<3,>=1.21.1 in /home/noobscience/Projects/rag_learn/venv/lib/python3.12/site-packages (from requests<3,>=2->langsmith<0.4,>=0.1.125->langchain-core!=0.3.0,!=0.3.1,!=0.3.10,!=0.3.11,!=0.3.12,!=0.3.13,!=0.3.14,!=0.3.15,!=0.3.16,!=0.3.17,!=0.3.18,!=0.3.19,!=0.3.2,!=0.3.20,!=0.3.21,!=0.3.22,!=0.3.3,!=0.3.4,!=0.3.5,!=0.3.6,!=0.3.7,!=0.3.8,!=0.3.9,<0.4.0,>=0.2.43->langgraph) (2.3.0)\n",
      "Requirement already satisfied: sniffio>=1.1 in /home/noobscience/Projects/rag_learn/venv/lib/python3.12/site-packages (from anyio->httpx>=0.25.2->langgraph-sdk<0.2.0,>=0.1.42->langgraph) (1.3.1)\n",
      "Downloading langgraph-0.2.74-py3-none-any.whl (151 kB)\n",
      "Downloading langgraph_checkpoint-2.0.16-py3-none-any.whl (38 kB)\n",
      "Downloading langgraph_sdk-0.1.53-py3-none-any.whl (45 kB)\n",
      "Using cached msgpack-1.1.0-cp312-cp312-manylinux_2_17_x86_64.manylinux2014_x86_64.whl (401 kB)\n",
      "Installing collected packages: msgpack, langgraph-sdk, langgraph-checkpoint, langgraph\n",
      "Successfully installed langgraph-0.2.74 langgraph-checkpoint-2.0.16 langgraph-sdk-0.1.53 msgpack-1.1.0\n"
     ]
    }
   ],
   "source": [
    "!pip install langgraph"
   ]
  },
  {
   "cell_type": "code",
   "execution_count": 78,
   "id": "4bbf585f-428b-4387-8f52-c8e13313ae39",
   "metadata": {},
   "outputs": [],
   "source": [
    "from langgraph.graph import START, StateGraph\n",
    "from langgraph.checkpoint.memory import MemorySaver\n",
    "\n",
    "memory = MemorySaver()\n",
    "\n",
    "def retrieve(state: State):\n",
    "    retrieved_docs = vector_store.similarity_search_with_score(state[\"question\"])\n",
    "    docs = [a[0] for a in retrieved_docs if a[1] > 0.5]\n",
    "    return {\"context\": docs}\n",
    "\n",
    "\n",
    "def generate(state: State):\n",
    "    docs_content = \"\\n\\n\".join(doc.page_content for doc in state[\"context\"])\n",
    "    messages = prompt.invoke({\"question\": state[\"question\"], \"context\": docs_content})\n",
    "    response = llm.invoke(messages)\n",
    "    return {\"answer\": response}\n",
    "\n",
    "\n",
    "graph_builder = StateGraph(State).add_sequence([retrieve, generate])\n",
    "graph_builder.add_edge(START, \"retrieve\")\n",
    "graph = graph_builder.compile(checkpointer=memory)"
   ]
  },
  {
   "cell_type": "code",
   "execution_count": 79,
   "id": "9d74eac1-5e6d-4e9a-8343-02f7abdaace4",
   "metadata": {},
   "outputs": [],
   "source": [
    "config = {\"configurable\": {\"thread_id\": \"1\"}}\n",
    "\n",
    "def ask(question, config):\n",
    "    res = graph.invoke({\"question\": question}, config, stream_mode=\"values\")\n",
    "    for doc in res['context']:\n",
    "        print(f\"Using book: {doc.metadata['title']} in context\")\n",
    "    print(res['answer'])"
   ]
  },
  {
   "cell_type": "code",
   "execution_count": 73,
   "id": "9c581437-25c4-4f14-8bfb-f4575c367a8b",
   "metadata": {},
   "outputs": [
    {
     "data": {
      "image/png": "[encoded data removed]",
      "text/plain": [
       "<IPython.core.display.Image object>"
      ]
     },
     "metadata": {},
     "output_type": "display_data"
    }
   ],
   "source": [
    "from IPython.display import Image, display\n",
    "\n",
    "display(Image(graph.get_graph().draw_mermaid_png()))"
   ]
  },
  {
   "cell_type": "code",
   "execution_count": 80,
   "id": "ce85ea5b-7e5b-4fb4-9367-6ebdf7f72ce6",
   "metadata": {},
   "outputs": [
    {
     "name": "stdout",
     "output_type": "stream",
     "text": [
      "Using book: The Hound of the Baskervilles in context\n",
      "Using book: A Study in Scarlet in context\n",
      "Using book: The Valley of Fear in context\n",
      "Using book: The Sign of Four in context\n",
      "Certainly! I can recommend some excellent Sherlock Holmes books we have here. Here are a few:\n",
      "\n",
      "*   **The Hound of the Baskervilles** by Arthur Conan Doyle. In this thrilling mystery, Sherlock Holmes investigates a mysterious hound that haunts the Baskerville family, threatening their lives.\n",
      "\n",
      "*   **A Study in Scarlet** by Arthur Conan Doyle. This is where it all began! It's Sherlock Holmes's very first case, involving a perplexing murder in London. It's a great introduction to the character and his methods.\n",
      "\n",
      "*   **The Valley of Fear** by Arthur Conan Doyle. Holmes investigates a mysterious murder in a remote country house, uncovering a complex web of secrets and a dangerous conspiracy.\n",
      "\n",
      "*   **The Sign of Four** by Arthur Conan Doyle. Holmes delves into a case involving a secret treasure, a mysterious one-legged man, and a complex plot with roots in India. Again, it's written by Arthur Conan Doyle.\n",
      "\n",
      "I hope you enjoy these! Let me know if you'd like me to find any others.\n",
      "\n"
     ]
    }
   ],
   "source": [
    "ask(\"Can you recommend me some books that you have about Sherlock\", config)"
   ]
  },
  {
   "cell_type": "code",
   "execution_count": 81,
   "id": "b2c31a21-6009-43f2-8450-dad277d794e2",
   "metadata": {},
   "outputs": [
    {
     "name": "stdout",
     "output_type": "stream",
     "text": [
      "Using book: The Valley of Fear in context\n",
      "Ah, a fan of classic mysteries! \"The Valley of Fear\" by Sir Arthur Conan Doyle is a thrilling Sherlock Holmes adventure. In it, Holmes and Watson are called to investigate a bizarre and seemingly impossible murder at a secluded country estate. The story unfolds with Holmes using his brilliant deductive skills to unravel a complex web of secrets and lies, ultimately revealing a hidden connection to a dark and dangerous past. It's a classic Holmes tale full of suspense and intrigue!\n",
      "\n"
     ]
    }
   ],
   "source": [
    "ask(\"I do like the The Valley of Fear\", config)"
   ]
  },
  {
   "cell_type": "code",
   "execution_count": 83,
   "id": "839ae447-df06-4db6-88bb-8dcf0491ef80",
   "metadata": {},
   "outputs": [
    {
     "name": "stdout",
     "output_type": "stream",
     "text": [
      "Using book: The Valley of Fear in context\n",
      "Using book: The Haunting of Hill House in context\n",
      "Using book: Pet Semetary in context\n",
      "Using book: At the Mountains of Madness in context\n",
      "Ah, \"The Valley of Fear\"! That's a classic Sherlock Holmes mystery written by Sir Arthur Conan Doyle. In this book, Holmes investigates a mysterious murder that takes place in a remote country house. It's a thrilling case filled with intrigue and deduction, just what you'd expect from a Sherlock Holmes story!\n",
      "\n"
     ]
    }
   ],
   "source": [
    "ask(\"Tell me more about the book valley of fear\", config)"
   ]
  }
 ],
 "metadata": {
  "kernelspec": {
   "display_name": "Python 3 (ipykernel)",
   "language": "python",
   "name": "python3"
  },
  "language_info": {
   "codemirror_mode": {
    "name": "ipython",
    "version": 3
   },
   "file_extension": ".py",
   "mimetype": "text/x-python",
   "name": "python",
   "nbconvert_exporter": "python",
   "pygments_lexer": "ipython3",
   "version": "3.12.7"
  }
 },
 "nbformat": 4,
 "nbformat_minor": 5
}
